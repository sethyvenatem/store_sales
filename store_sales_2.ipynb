{
 "cells": [
  {
   "cell_type": "code",
   "execution_count": 1,
   "id": "a888ed8a-d4f8-41a0-9dbf-0af78347b99c",
   "metadata": {},
   "outputs": [],
   "source": [
    "import pandas as pd\n",
    "import numpy as np\n",
    "from datetime import datetime,timedelta, date\n",
    "%matplotlib inline\n",
    "import matplotlib.pyplot as plt"
   ]
  },
  {
   "cell_type": "code",
   "execution_count": 2,
   "id": "1851faa2-d3dd-43d8-970f-50011c32e514",
   "metadata": {},
   "outputs": [
    {
     "data": {
      "text/html": [
       "<div>\n",
       "<style scoped>\n",
       "    .dataframe tbody tr th:only-of-type {\n",
       "        vertical-align: middle;\n",
       "    }\n",
       "\n",
       "    .dataframe tbody tr th {\n",
       "        vertical-align: top;\n",
       "    }\n",
       "\n",
       "    .dataframe thead th {\n",
       "        text-align: right;\n",
       "    }\n",
       "</style>\n",
       "<table border=\"1\" class=\"dataframe\">\n",
       "  <thead>\n",
       "    <tr style=\"text-align: right;\">\n",
       "      <th></th>\n",
       "      <th>date</th>\n",
       "      <th>store_nbr</th>\n",
       "      <th>family</th>\n",
       "      <th>sales</th>\n",
       "      <th>onpromotion</th>\n",
       "    </tr>\n",
       "    <tr>\n",
       "      <th>id</th>\n",
       "      <th></th>\n",
       "      <th></th>\n",
       "      <th></th>\n",
       "      <th></th>\n",
       "      <th></th>\n",
       "    </tr>\n",
       "  </thead>\n",
       "  <tbody>\n",
       "    <tr>\n",
       "      <th>0</th>\n",
       "      <td>2013-01-01</td>\n",
       "      <td>1</td>\n",
       "      <td>AUTOMOTIVE</td>\n",
       "      <td>0.0</td>\n",
       "      <td>0</td>\n",
       "    </tr>\n",
       "    <tr>\n",
       "      <th>1194</th>\n",
       "      <td>2013-01-01</td>\n",
       "      <td>42</td>\n",
       "      <td>CELEBRATION</td>\n",
       "      <td>0.0</td>\n",
       "      <td>0</td>\n",
       "    </tr>\n",
       "    <tr>\n",
       "      <th>1193</th>\n",
       "      <td>2013-01-01</td>\n",
       "      <td>42</td>\n",
       "      <td>BREAD/BAKERY</td>\n",
       "      <td>0.0</td>\n",
       "      <td>0</td>\n",
       "    </tr>\n",
       "    <tr>\n",
       "      <th>1192</th>\n",
       "      <td>2013-01-01</td>\n",
       "      <td>42</td>\n",
       "      <td>BOOKS</td>\n",
       "      <td>0.0</td>\n",
       "      <td>0</td>\n",
       "    </tr>\n",
       "    <tr>\n",
       "      <th>1191</th>\n",
       "      <td>2013-01-01</td>\n",
       "      <td>42</td>\n",
       "      <td>BEVERAGES</td>\n",
       "      <td>0.0</td>\n",
       "      <td>0</td>\n",
       "    </tr>\n",
       "  </tbody>\n",
       "</table>\n",
       "</div>"
      ],
      "text/plain": [
       "           date  store_nbr        family  sales  onpromotion\n",
       "id                                                          \n",
       "0    2013-01-01          1    AUTOMOTIVE    0.0            0\n",
       "1194 2013-01-01         42   CELEBRATION    0.0            0\n",
       "1193 2013-01-01         42  BREAD/BAKERY    0.0            0\n",
       "1192 2013-01-01         42         BOOKS    0.0            0\n",
       "1191 2013-01-01         42     BEVERAGES    0.0            0"
      ]
     },
     "execution_count": 2,
     "metadata": {},
     "output_type": "execute_result"
    }
   ],
   "source": [
    "train = pd.read_csv('train.csv',index_col = 'id')\n",
    "train['date'] = pd.to_datetime(train['date'])\n",
    "train = train.sort_values('date')\n",
    "train.head()"
   ]
  },
  {
   "cell_type": "code",
   "execution_count": 3,
   "id": "8a651db0-7bec-4601-96ff-3779e8ad4427",
   "metadata": {},
   "outputs": [
    {
     "data": {
      "text/html": [
       "<div>\n",
       "<style scoped>\n",
       "    .dataframe tbody tr th:only-of-type {\n",
       "        vertical-align: middle;\n",
       "    }\n",
       "\n",
       "    .dataframe tbody tr th {\n",
       "        vertical-align: top;\n",
       "    }\n",
       "\n",
       "    .dataframe thead th {\n",
       "        text-align: right;\n",
       "    }\n",
       "</style>\n",
       "<table border=\"1\" class=\"dataframe\">\n",
       "  <thead>\n",
       "    <tr style=\"text-align: right;\">\n",
       "      <th></th>\n",
       "      <th>date</th>\n",
       "      <th>store_nbr</th>\n",
       "      <th>family</th>\n",
       "      <th>onpromotion</th>\n",
       "    </tr>\n",
       "    <tr>\n",
       "      <th>id</th>\n",
       "      <th></th>\n",
       "      <th></th>\n",
       "      <th></th>\n",
       "      <th></th>\n",
       "    </tr>\n",
       "  </thead>\n",
       "  <tbody>\n",
       "    <tr>\n",
       "      <th>3000888</th>\n",
       "      <td>2017-08-16</td>\n",
       "      <td>1</td>\n",
       "      <td>AUTOMOTIVE</td>\n",
       "      <td>0</td>\n",
       "    </tr>\n",
       "    <tr>\n",
       "      <th>3002082</th>\n",
       "      <td>2017-08-16</td>\n",
       "      <td>42</td>\n",
       "      <td>CELEBRATION</td>\n",
       "      <td>0</td>\n",
       "    </tr>\n",
       "    <tr>\n",
       "      <th>3002081</th>\n",
       "      <td>2017-08-16</td>\n",
       "      <td>42</td>\n",
       "      <td>BREAD/BAKERY</td>\n",
       "      <td>12</td>\n",
       "    </tr>\n",
       "    <tr>\n",
       "      <th>3002080</th>\n",
       "      <td>2017-08-16</td>\n",
       "      <td>42</td>\n",
       "      <td>BOOKS</td>\n",
       "      <td>0</td>\n",
       "    </tr>\n",
       "    <tr>\n",
       "      <th>3002079</th>\n",
       "      <td>2017-08-16</td>\n",
       "      <td>42</td>\n",
       "      <td>BEVERAGES</td>\n",
       "      <td>19</td>\n",
       "    </tr>\n",
       "  </tbody>\n",
       "</table>\n",
       "</div>"
      ],
      "text/plain": [
       "              date  store_nbr        family  onpromotion\n",
       "id                                                      \n",
       "3000888 2017-08-16          1    AUTOMOTIVE            0\n",
       "3002082 2017-08-16         42   CELEBRATION            0\n",
       "3002081 2017-08-16         42  BREAD/BAKERY           12\n",
       "3002080 2017-08-16         42         BOOKS            0\n",
       "3002079 2017-08-16         42     BEVERAGES           19"
      ]
     },
     "execution_count": 3,
     "metadata": {},
     "output_type": "execute_result"
    }
   ],
   "source": [
    "test = pd.read_csv('test.csv',index_col = 'id')\n",
    "test['date'] = pd.to_datetime(test['date'])\n",
    "test = test.sort_values('date')\n",
    "test.head()"
   ]
  },
  {
   "cell_type": "code",
   "execution_count": 4,
   "id": "65cdcfa5-1729-4649-b891-82bbddb4c7cd",
   "metadata": {},
   "outputs": [
    {
     "data": {
      "text/plain": [
       "True"
      ]
     },
     "execution_count": 4,
     "metadata": {},
     "output_type": "execute_result"
    }
   ],
   "source": [
    "# Check that the list of stores from the test set is the same as in the train set\n",
    "(test[['store_nbr','family']].groupby(['store_nbr','family']).count().index == train[['store_nbr','family']].groupby(['store_nbr','family']).count().index).all()"
   ]
  },
  {
   "cell_type": "code",
   "execution_count": 5,
   "id": "ef8cc452-6b66-439c-839f-10a27dd1de6f",
   "metadata": {},
   "outputs": [
    {
     "name": "stdout",
     "output_type": "stream",
     "text": [
      "0:00:45.502804\n"
     ]
    }
   ],
   "source": [
    "# Make sure that there is one row for every date\n",
    "time = datetime(2023,1,1).utcnow()\n",
    "all_dates = [train['date'].min()+timedelta(days = x) for x in range((train['date'].max()-train['date'].min()).days+1)]\n",
    "missing_dates = [date for date in all_dates if not(date in train['date'].values)]\n",
    "to_add = pd.DataFrame([],columns = ['date','store_nbr','family','sales','onpromotion'])\n",
    "ind = -1\n",
    "for date in missing_dates:\n",
    "    for store_nb in train['store_nbr'].unique():\n",
    "        for family in train['family'].unique():\n",
    "            # Make sure that there are no repeated indices.\n",
    "            to_add = pd.concat([to_add,pd.DataFrame([[date,store_nb,family,0,0]],index = [ind],columns = ['date','store_nbr','family','sales','onpromotion'])])\n",
    "            ind -= 1\n",
    "train = pd.concat([train,to_add]).sort_values('date')\n",
    "print(datetime(2023,1,1).utcnow()-time)"
   ]
  },
  {
   "cell_type": "markdown",
   "id": "786370ef-ec5f-4971-93c5-244d70af4059",
   "metadata": {},
   "source": [
    "## Flag outliers"
   ]
  },
  {
   "cell_type": "code",
   "execution_count": 9,
   "id": "df7150e6-a890-488f-950f-8bc9919d62be",
   "metadata": {},
   "outputs": [
    {
     "data": {
      "image/png": "[encoded data removed]",
      "text/plain": [
       "<Figure size 432x288 with 1 Axes>"
      ]
     },
     "metadata": {
      "needs_background": "light"
     },
     "output_type": "display_data"
    }
   ],
   "source": [
    "temp = train[['date','sales']].groupby('date').mean()\n",
    "train['to_keep'] = True\n",
    "train.loc[train['date'].isin(temp[temp['sales'] < 50].index),'to_keep'] = False\n",
    "\n",
    "temp = train.loc[train['to_keep'],['date','sales']].groupby('date').mean()\n",
    "plt.scatter(temp.index,temp['sales'])\n",
    "temp = train.loc[~train['to_keep'],['date','sales']].groupby('date').mean()\n",
    "plt.scatter(temp.index,temp['sales'],color = 'red');"
   ]
  },
  {
   "cell_type": "code",
   "execution_count": 10,
   "id": "e4611227-aad4-411c-a8a1-7cd41d388678",
   "metadata": {},
   "outputs": [
    {
     "data": {
      "image/png": "[encoded data removed]",
      "text/plain": [
       "<Figure size 432x288 with 1 Axes>"
      ]
     },
     "metadata": {
      "needs_background": "light"
     },
     "output_type": "display_data"
    }
   ],
   "source": [
    "temp = train[['date','sales']].groupby('date').std()\n",
    "train.loc[train['date'].isin(temp[temp['sales'] > 2500].index),'to_keep'] = False\n",
    "\n",
    "temp = train.loc[train['to_keep'],['date','sales']].groupby('date').std()\n",
    "plt.scatter(temp.index,temp['sales'])\n",
    "temp = train.loc[~train['to_keep'],['date','sales']].groupby('date').std()\n",
    "plt.scatter(temp.index,temp['sales'],color = 'red');"
   ]
  },
  {
   "cell_type": "code",
   "execution_count": 12,
   "id": "5ae628fb-0238-4a7f-ba21-fe33373af4ae",
   "metadata": {},
   "outputs": [
    {
     "data": {
      "text/html": [
       "<div>\n",
       "<style scoped>\n",
       "    .dataframe tbody tr th:only-of-type {\n",
       "        vertical-align: middle;\n",
       "    }\n",
       "\n",
       "    .dataframe tbody tr th {\n",
       "        vertical-align: top;\n",
       "    }\n",
       "\n",
       "    .dataframe thead th {\n",
       "        text-align: right;\n",
       "    }\n",
       "</style>\n",
       "<table border=\"1\" class=\"dataframe\">\n",
       "  <thead>\n",
       "    <tr style=\"text-align: right;\">\n",
       "      <th></th>\n",
       "      <th></th>\n",
       "      <th>first_date</th>\n",
       "      <th>last_date</th>\n",
       "      <th>sales_count</th>\n",
       "      <th>sales_density</th>\n",
       "      <th>closed_store</th>\n",
       "    </tr>\n",
       "    <tr>\n",
       "      <th>store_nbr</th>\n",
       "      <th>family</th>\n",
       "      <th></th>\n",
       "      <th></th>\n",
       "      <th></th>\n",
       "      <th></th>\n",
       "      <th></th>\n",
       "    </tr>\n",
       "  </thead>\n",
       "  <tbody>\n",
       "    <tr>\n",
       "      <th rowspan=\"5\" valign=\"top\">1</th>\n",
       "      <th>AUTOMOTIVE</th>\n",
       "      <td>2013-01-02</td>\n",
       "      <td>2017-08-15</td>\n",
       "      <td>1463</td>\n",
       "      <td>0.867220</td>\n",
       "      <td>False</td>\n",
       "    </tr>\n",
       "    <tr>\n",
       "      <th>BABY CARE</th>\n",
       "      <td>NaT</td>\n",
       "      <td>NaT</td>\n",
       "      <td>0</td>\n",
       "      <td>NaN</td>\n",
       "      <td>True</td>\n",
       "    </tr>\n",
       "    <tr>\n",
       "      <th>BEAUTY</th>\n",
       "      <td>2013-01-02</td>\n",
       "      <td>2017-08-15</td>\n",
       "      <td>1430</td>\n",
       "      <td>0.847659</td>\n",
       "      <td>False</td>\n",
       "    </tr>\n",
       "    <tr>\n",
       "      <th>BEVERAGES</th>\n",
       "      <td>2013-01-02</td>\n",
       "      <td>2017-08-15</td>\n",
       "      <td>1678</td>\n",
       "      <td>0.994665</td>\n",
       "      <td>False</td>\n",
       "    </tr>\n",
       "    <tr>\n",
       "      <th>BOOKS</th>\n",
       "      <td>2016-10-13</td>\n",
       "      <td>2017-07-31</td>\n",
       "      <td>127</td>\n",
       "      <td>0.434932</td>\n",
       "      <td>False</td>\n",
       "    </tr>\n",
       "  </tbody>\n",
       "</table>\n",
       "</div>"
      ],
      "text/plain": [
       "                     first_date  last_date  sales_count  sales_density  \\\n",
       "store_nbr family                                                         \n",
       "1         AUTOMOTIVE 2013-01-02 2017-08-15         1463       0.867220   \n",
       "          BABY CARE         NaT        NaT            0            NaN   \n",
       "          BEAUTY     2013-01-02 2017-08-15         1430       0.847659   \n",
       "          BEVERAGES  2013-01-02 2017-08-15         1678       0.994665   \n",
       "          BOOKS      2016-10-13 2017-07-31          127       0.434932   \n",
       "\n",
       "                      closed_store  \n",
       "store_nbr family                    \n",
       "1         AUTOMOTIVE         False  \n",
       "          BABY CARE           True  \n",
       "          BEAUTY             False  \n",
       "          BEVERAGES          False  \n",
       "          BOOKS              False  "
      ]
     },
     "execution_count": 12,
     "metadata": {},
     "output_type": "execute_result"
    }
   ],
   "source": [
    "# Some stores open late in the dataset or don't even open.\n",
    "temp = train.copy()\n",
    "temp.loc[temp['sales'] > 0,'first_date'] = temp.loc[temp['sales'] > 0,'date']\n",
    "opening_dates = temp[['store_nbr','family','first_date']].groupby(['store_nbr','family']).agg(lambda x: x.min())\n",
    "opening_dates['last_date'] = temp[['store_nbr','family','first_date']].groupby(['store_nbr','family']).agg(lambda x: x.max()).rename(columns={'first_date':'last_date'})\n",
    "opening_dates['sales_count'] = temp[['store_nbr','family','sales']].groupby(['store_nbr','family']).agg(lambda x: (x > 0).sum()).rename(columns={'first_date':'sales_count'})\n",
    "opening_dates['sales_density'] = opening_dates['sales_count']/((opening_dates['last_date'] - opening_dates['first_date']).apply(lambda x: x.days+1))\n",
    "opening_dates['closed_store'] = False\n",
    "opening_dates.loc[(opening_dates['first_date'].isnull()) | (opening_dates['last_date'] < temp['date'].max() - 7*opening_dates['sales_density'].apply(lambda x: np.nan if x!=x else timedelta(days = 1/x))),'closed_store'] = True\n",
    "opening_dates.head()"
   ]
  },
  {
   "cell_type": "code",
   "execution_count": 13,
   "id": "7a0ad314-8642-4762-98e7-672aca5353aa",
   "metadata": {},
   "outputs": [
    {
     "name": "stdout",
     "output_type": "stream",
     "text": [
      "0:01:01.226570\n"
     ]
    }
   ],
   "source": [
    "# This is a list of stores that never opened or stores where there has been no sales since seven times the average time interval bewten days with sales.\n",
    "# These stores have probably closed.\n",
    "time = datetime(2023,1,1).utcnow()\n",
    "train['closed_store'] = False\n",
    "for (store_nb, family) in opening_dates[(opening_dates['first_date'].isnull()) | (opening_dates['last_date'] < train['date'].max() - 7*opening_dates['sales_density'].apply(lambda x: np.nan if x!=x else timedelta(days = 1/x)))].index:\n",
    "    train.loc[(train['store_nbr'] == store_nb) & (train['family'] == family),'to_keep'] = False\n",
    "    train.loc[(train['store_nbr'] == store_nb) & (train['family'] == family),'closed_store'] = True\n",
    "print(datetime(2023,1,1).utcnow()-time)"
   ]
  },
  {
   "cell_type": "code",
   "execution_count": 15,
   "id": "06ea378a-43d1-46c6-b097-2710d65eed5e",
   "metadata": {},
   "outputs": [
    {
     "name": "stdout",
     "output_type": "stream",
     "text": [
      "0:07:28.197225\n"
     ]
    }
   ],
   "source": [
    "# All the sales that took place before the store opening (and are thus zero) are labeld as outliers.\n",
    "time = datetime(2023,1,1).utcnow()\n",
    "for (store_nb, family) in opening_dates[~(opening_dates['first_date'].isnull()) & ~(opening_dates['last_date'] < train['date'].max() - 7*opening_dates['sales_density'].apply(lambda x: np.nan if x!=x else timedelta(days = 1/x)))].index:\n",
    "    train.loc[(train['store_nbr'] == store_nb) & (train['family'] == family) & (train['date'] < opening_dates.loc[(store_nb,family),'first_date']),'to_keep'] = False\n",
    "print(datetime(2023,1,1).utcnow()-time)"
   ]
  },
  {
   "cell_type": "code",
   "execution_count": 16,
   "id": "114df9b0-ec89-4d52-93f2-faaa5f42d75b",
   "metadata": {},
   "outputs": [
    {
     "data": {
      "text/plain": [
       "to_keep       0\n",
       "open_store    0\n",
       "dtype: int64"
      ]
     },
     "execution_count": 16,
     "metadata": {},
     "output_type": "execute_result"
    }
   ],
   "source": [
    "# check that there are no open stores where everyhting is an outlier.\n",
    "temp = train.copy()\n",
    "temp['open_store'] = ~temp['closed_store']\n",
    "temp = temp[['store_nbr','family','to_keep','open_store']].groupby(['store_nbr','family']).sum()\n",
    "temp[temp['to_keep'] == 0].sum()"
   ]
  },
  {
   "cell_type": "markdown",
   "id": "aea2859c-ff8e-497b-8efa-c65dec10241a",
   "metadata": {},
   "source": [
    "It's worth acounting for because this may change the ranking of my models.\n",
    "But then, I get a system that assumes that none of this happens in the test set. This is a simplification (which I make). I could make a model that predicts the closing of shops.\n",
    "Ideas:\n",
    "\n",
    "    - Set anything before the first_date to outlier.\n",
    "    - Identify closed shops based on the last_date and set them as outliers so that they don't enter the modelling. Their prediction will be sales = 0.\n",
    "    - This is very important for any shop-by-shop model like the shop mean or individual linear regressions. It can't harm the general moedlling approach. The input data becomes more specific."
   ]
  },
  {
   "cell_type": "code",
   "execution_count": 18,
   "id": "0c41366e-6a16-4973-97bf-c03894f3ca78",
   "metadata": {},
   "outputs": [
    {
     "data": {
      "image/png": "[encoded data removed]",
      "text/plain": [
       "<Figure size 432x288 with 1 Axes>"
      ]
     },
     "metadata": {
      "needs_background": "light"
     },
     "output_type": "display_data"
    }
   ],
   "source": [
    "# The overall trend becomes a bit less when the closed stores are removed.\n",
    "\n",
    "temp = train[['date','sales']].groupby('date').mean()\n",
    "plt.scatter(temp.index,temp['sales'])\n",
    "temp = train.loc[train['to_keep'],['date','sales']].groupby('date').mean()\n",
    "plt.scatter(temp.index,temp['sales'])\n",
    "temp = train.loc[~train['to_keep'],['date','sales']].groupby('date').mean()\n",
    "plt.scatter(temp.index,temp['sales'],color = 'red');"
   ]
  },
  {
   "cell_type": "code",
   "execution_count": 19,
   "id": "6d99947b-39de-458d-beee-6488741a59d3",
   "metadata": {},
   "outputs": [
    {
     "data": {
      "image/png": "[encoded data removed]",
      "text/plain": [
       "<Figure size 432x288 with 1 Axes>"
      ]
     },
     "metadata": {
      "needs_background": "light"
     },
     "output_type": "display_data"
    }
   ],
   "source": [
    "temp = train.loc[train['to_keep'],['date','sales']].groupby('date').median()\n",
    "plt.scatter(temp.index,temp['sales'])\n",
    "temp = train.loc[~train['to_keep'],['date','sales']].groupby('date').median()\n",
    "plt.scatter(temp.index,temp['sales'],color = 'red');"
   ]
  },
  {
   "cell_type": "code",
   "execution_count": 20,
   "id": "7534a2f7-e310-4426-a544-ed30f162fdd6",
   "metadata": {},
   "outputs": [
    {
     "data": {
      "image/png": "[encoded data removed]",
      "text/plain": [
       "<Figure size 432x288 with 1 Axes>"
      ]
     },
     "metadata": {
      "needs_background": "light"
     },
     "output_type": "display_data"
    }
   ],
   "source": [
    "def nb_sales(data):\n",
    "    return (data > 0).sum()\n",
    "\n",
    "temp = train.loc[train['to_keep'],['date','sales']].groupby('date').agg(lambda x: nb_sales(x))\n",
    "plt.scatter(temp.index,temp['sales'])\n",
    "temp = train.loc[~train['to_keep'],['date','sales']].groupby('date').agg(lambda x: nb_sales(x))\n",
    "plt.scatter(temp.index,temp['sales'],color = 'red')\n",
    "plt.ylabel('total number shops with sales');"
   ]
  },
  {
   "cell_type": "code",
   "execution_count": 21,
   "id": "e8677e49-561b-41ab-8503-439e30e71631",
   "metadata": {},
   "outputs": [],
   "source": [
    "# Cut out everything before the 1st of january 2016.\n",
    "# Assume that any shop that did'nt make sales after june 2015 is closed.\n",
    "opening_dates.loc[(opening_dates['last_date'] < datetime(2015,6,1)),'closed_store'] = True\n",
    "for (store_nb, fam) in opening_dates.loc[(opening_dates['last_date'] < datetime(2015,6,1)),'closed_store'].index:\n",
    "    train.loc[(train['store_nbr'] == store_nb) & (train['family'] == fam), 'closed_store'] = True\n",
    "train.loc[train['date'] < datetime(2016,1,1),'to_keep'] = False"
   ]
  },
  {
   "cell_type": "code",
   "execution_count": 22,
   "id": "4eaa1c6c-fb0f-4d91-9e7a-bf7f5685009b",
   "metadata": {},
   "outputs": [
    {
     "data": {
      "text/html": [
       "<div>\n",
       "<style scoped>\n",
       "    .dataframe tbody tr th:only-of-type {\n",
       "        vertical-align: middle;\n",
       "    }\n",
       "\n",
       "    .dataframe tbody tr th {\n",
       "        vertical-align: top;\n",
       "    }\n",
       "\n",
       "    .dataframe thead th {\n",
       "        text-align: right;\n",
       "    }\n",
       "</style>\n",
       "<table border=\"1\" class=\"dataframe\">\n",
       "  <thead>\n",
       "    <tr style=\"text-align: right;\">\n",
       "      <th></th>\n",
       "      <th></th>\n",
       "      <th>first_date</th>\n",
       "      <th>last_date</th>\n",
       "      <th>sales_count</th>\n",
       "      <th>sales_density</th>\n",
       "      <th>closed_store</th>\n",
       "    </tr>\n",
       "    <tr>\n",
       "      <th>store_nbr</th>\n",
       "      <th>family</th>\n",
       "      <th></th>\n",
       "      <th></th>\n",
       "      <th></th>\n",
       "      <th></th>\n",
       "      <th></th>\n",
       "    </tr>\n",
       "  </thead>\n",
       "  <tbody>\n",
       "    <tr>\n",
       "      <th>10</th>\n",
       "      <th>LAWN AND GARDEN</th>\n",
       "      <td>2014-10-29</td>\n",
       "      <td>2015-11-07</td>\n",
       "      <td>14</td>\n",
       "      <td>0.037333</td>\n",
       "      <td>True</td>\n",
       "    </tr>\n",
       "    <tr>\n",
       "      <th>12</th>\n",
       "      <th>LAWN AND GARDEN</th>\n",
       "      <td>2014-05-09</td>\n",
       "      <td>2014-10-31</td>\n",
       "      <td>5</td>\n",
       "      <td>0.028409</td>\n",
       "      <td>True</td>\n",
       "    </tr>\n",
       "    <tr>\n",
       "      <th>13</th>\n",
       "      <th>LAWN AND GARDEN</th>\n",
       "      <td>2014-05-10</td>\n",
       "      <td>2015-05-10</td>\n",
       "      <td>9</td>\n",
       "      <td>0.024590</td>\n",
       "      <td>True</td>\n",
       "    </tr>\n",
       "    <tr>\n",
       "      <th>15</th>\n",
       "      <th>LAWN AND GARDEN</th>\n",
       "      <td>2014-05-10</td>\n",
       "      <td>2015-05-10</td>\n",
       "      <td>3</td>\n",
       "      <td>0.008197</td>\n",
       "      <td>True</td>\n",
       "    </tr>\n",
       "    <tr>\n",
       "      <th>16</th>\n",
       "      <th>LAWN AND GARDEN</th>\n",
       "      <td>2014-10-29</td>\n",
       "      <td>2015-11-05</td>\n",
       "      <td>11</td>\n",
       "      <td>0.029491</td>\n",
       "      <td>True</td>\n",
       "    </tr>\n",
       "    <tr>\n",
       "      <th>17</th>\n",
       "      <th>LAWN AND GARDEN</th>\n",
       "      <td>2014-05-08</td>\n",
       "      <td>2015-11-03</td>\n",
       "      <td>40</td>\n",
       "      <td>0.073394</td>\n",
       "      <td>True</td>\n",
       "    </tr>\n",
       "    <tr>\n",
       "      <th>19</th>\n",
       "      <th>LAWN AND GARDEN</th>\n",
       "      <td>2014-10-30</td>\n",
       "      <td>2015-11-01</td>\n",
       "      <td>4</td>\n",
       "      <td>0.010870</td>\n",
       "      <td>True</td>\n",
       "    </tr>\n",
       "    <tr>\n",
       "      <th>22</th>\n",
       "      <th>LAWN AND GARDEN</th>\n",
       "      <td>2015-10-27</td>\n",
       "      <td>2015-12-26</td>\n",
       "      <td>6</td>\n",
       "      <td>0.098361</td>\n",
       "      <td>True</td>\n",
       "    </tr>\n",
       "    <tr>\n",
       "      <th>32</th>\n",
       "      <th>LAWN AND GARDEN</th>\n",
       "      <td>2015-12-16</td>\n",
       "      <td>2015-12-20</td>\n",
       "      <td>5</td>\n",
       "      <td>1.000000</td>\n",
       "      <td>True</td>\n",
       "    </tr>\n",
       "    <tr>\n",
       "      <th>33</th>\n",
       "      <th>LAWN AND GARDEN</th>\n",
       "      <td>2014-10-29</td>\n",
       "      <td>2015-02-18</td>\n",
       "      <td>10</td>\n",
       "      <td>0.088496</td>\n",
       "      <td>True</td>\n",
       "    </tr>\n",
       "    <tr>\n",
       "      <th>35</th>\n",
       "      <th>LAWN AND GARDEN</th>\n",
       "      <td>2014-05-08</td>\n",
       "      <td>2015-11-01</td>\n",
       "      <td>8</td>\n",
       "      <td>0.014733</td>\n",
       "      <td>True</td>\n",
       "    </tr>\n",
       "  </tbody>\n",
       "</table>\n",
       "</div>"
      ],
      "text/plain": [
       "                          first_date  last_date  sales_count  sales_density  \\\n",
       "store_nbr family                                                              \n",
       "10        LAWN AND GARDEN 2014-10-29 2015-11-07           14       0.037333   \n",
       "12        LAWN AND GARDEN 2014-05-09 2014-10-31            5       0.028409   \n",
       "13        LAWN AND GARDEN 2014-05-10 2015-05-10            9       0.024590   \n",
       "15        LAWN AND GARDEN 2014-05-10 2015-05-10            3       0.008197   \n",
       "16        LAWN AND GARDEN 2014-10-29 2015-11-05           11       0.029491   \n",
       "17        LAWN AND GARDEN 2014-05-08 2015-11-03           40       0.073394   \n",
       "19        LAWN AND GARDEN 2014-10-30 2015-11-01            4       0.010870   \n",
       "22        LAWN AND GARDEN 2015-10-27 2015-12-26            6       0.098361   \n",
       "32        LAWN AND GARDEN 2015-12-16 2015-12-20            5       1.000000   \n",
       "33        LAWN AND GARDEN 2014-10-29 2015-02-18           10       0.088496   \n",
       "35        LAWN AND GARDEN 2014-05-08 2015-11-01            8       0.014733   \n",
       "\n",
       "                           closed_store  \n",
       "store_nbr family                         \n",
       "10        LAWN AND GARDEN          True  \n",
       "12        LAWN AND GARDEN          True  \n",
       "13        LAWN AND GARDEN          True  \n",
       "15        LAWN AND GARDEN          True  \n",
       "16        LAWN AND GARDEN          True  \n",
       "17        LAWN AND GARDEN          True  \n",
       "19        LAWN AND GARDEN          True  \n",
       "22        LAWN AND GARDEN          True  \n",
       "32        LAWN AND GARDEN          True  \n",
       "33        LAWN AND GARDEN          True  \n",
       "35        LAWN AND GARDEN          True  "
      ]
     },
     "execution_count": 22,
     "metadata": {},
     "output_type": "execute_result"
    }
   ],
   "source": [
    "# Check that all the stores with nothing 'to_keep' are labeld as closed.\n",
    "opening_dates[(opening_dates['last_date'] < datetime(2016,1,1))]"
   ]
  },
  {
   "cell_type": "code",
   "execution_count": 24,
   "id": "7db3d704-89c6-4062-9060-b3ddbb793bd4",
   "metadata": {},
   "outputs": [
    {
     "name": "stdout",
     "output_type": "stream",
     "text": [
      "Start of test data: 2017-05-05 18:43:12\n",
      "Last date: 2017-08-15 00:00:00\n"
     ]
    },
    {
     "data": {
      "text/html": [
       "<div>\n",
       "<style scoped>\n",
       "    .dataframe tbody tr th:only-of-type {\n",
       "        vertical-align: middle;\n",
       "    }\n",
       "\n",
       "    .dataframe tbody tr th {\n",
       "        vertical-align: top;\n",
       "    }\n",
       "\n",
       "    .dataframe thead th {\n",
       "        text-align: right;\n",
       "    }\n",
       "</style>\n",
       "<table border=\"1\" class=\"dataframe\">\n",
       "  <thead>\n",
       "    <tr style=\"text-align: right;\">\n",
       "      <th></th>\n",
       "      <th></th>\n",
       "      <th>first_date</th>\n",
       "      <th>last_date</th>\n",
       "      <th>sales_count</th>\n",
       "      <th>sales_density</th>\n",
       "      <th>closed_store</th>\n",
       "    </tr>\n",
       "    <tr>\n",
       "      <th>store_nbr</th>\n",
       "      <th>family</th>\n",
       "      <th></th>\n",
       "      <th></th>\n",
       "      <th></th>\n",
       "      <th></th>\n",
       "      <th></th>\n",
       "    </tr>\n",
       "  </thead>\n",
       "  <tbody>\n",
       "    <tr>\n",
       "      <th>6</th>\n",
       "      <th>BABY CARE</th>\n",
       "      <td>2017-07-10</td>\n",
       "      <td>2017-07-24</td>\n",
       "      <td>7</td>\n",
       "      <td>0.466667</td>\n",
       "      <td>True</td>\n",
       "    </tr>\n",
       "  </tbody>\n",
       "</table>\n",
       "</div>"
      ],
      "text/plain": [
       "                    first_date  last_date  sales_count  sales_density  \\\n",
       "store_nbr family                                                        \n",
       "6         BABY CARE 2017-07-10 2017-07-24            7       0.466667   \n",
       "\n",
       "                     closed_store  \n",
       "store_nbr family                   \n",
       "6         BABY CARE          True  "
      ]
     },
     "execution_count": 24,
     "metadata": {},
     "output_type": "execute_result"
    }
   ],
   "source": [
    "#Check that there are no shops with sales only in the test data.\n",
    "train_cut = 0.94\n",
    "print('Start of test data:',train['date'].min()+train_cut*(train['date'].max()-train['date'].min()))\n",
    "print('Last date:',train['date'].max())\n",
    "opening_dates[opening_dates['first_date'] > train['date'].min()+train_cut*(train['date'].max()-train['date'].min())]"
   ]
  },
  {
   "cell_type": "code",
   "execution_count": 25,
   "id": "dbdc68d5-cd55-40a7-b79e-837c64759f94",
   "metadata": {},
   "outputs": [],
   "source": [
    "train['train_set'] = True\n",
    "train.loc[train['date'] > train['date'].min()+train_cut*(train['date'].max()-train['date'].min()),'train_set'] = False\n",
    "\n",
    "target = train[['date', 'store_nbr', 'family', 'to_keep', 'sales', 'train_set','closed_store']].copy()\n",
    "train = train.drop('sales', axis = 1)\n",
    "target['log_sales'] = np.log(1+target['sales'].astype(float))\n",
    "target[['sales','log_sales']] = target[['sales','log_sales']].astype(float)"
   ]
  },
  {
   "cell_type": "code",
   "execution_count": 26,
   "id": "afd80e31-1141-4585-8300-19b266019c1e",
   "metadata": {},
   "outputs": [
    {
     "data": {
      "image/png": "[encoded data removed]",
      "text/plain": [
       "<Figure size 432x288 with 1 Axes>"
      ]
     },
     "metadata": {
      "needs_background": "light"
     },
     "output_type": "display_data"
    }
   ],
   "source": [
    "temp = target.loc[target['to_keep'] & target['train_set'],['date','sales']].groupby('date').sum()\n",
    "plt.scatter(temp.index,temp['sales'])\n",
    "\n",
    "temp = target.loc[target['to_keep'] & ~target['train_set'],['date','sales']].groupby('date').sum()\n",
    "plt.scatter(temp.index,temp['sales'],color = 'green');"
   ]
  },
  {
   "cell_type": "code",
   "execution_count": 30,
   "id": "40f0ae27-eef1-4001-b899-ac11bbd8b7fd",
   "metadata": {},
   "outputs": [
    {
     "name": "stdout",
     "output_type": "stream",
     "text": [
      "Stored 'train' (DataFrame)\n",
      "Stored 'target' (DataFrame)\n"
     ]
    }
   ],
   "source": [
    "%store train target"
   ]
  },
  {
   "cell_type": "markdown",
   "id": "a751fc95-661e-4953-a87d-a29ebe2ef33d",
   "metadata": {},
   "source": [
    "# Features"
   ]
  },
  {
   "cell_type": "code",
   "execution_count": 38,
   "id": "f4843b15-43c1-4a36-be19-e3fe2754d537",
   "metadata": {},
   "outputs": [],
   "source": [
    "import pandas as pd\n",
    "import numpy as np\n",
    "from datetime import datetime,timedelta, date\n",
    "%matplotlib inline\n",
    "import matplotlib.pyplot as plt\n",
    "from sklearn.linear_model import LinearRegression\n",
    "from xgboost import XGBRegressor\n",
    "\n",
    "def RMSLE(y_prediction,y_measured):\n",
    "    return np.sqrt(np.mean((np.log((1+y_prediction)/(1+y_measured))**2)))\n",
    "\n",
    "%store -r train target"
   ]
  },
  {
   "cell_type": "code",
   "execution_count": 39,
   "id": "b78715ea-1a73-43c4-9f41-71cb2b2fdaad",
   "metadata": {},
   "outputs": [
    {
     "data": {
      "text/html": [
       "<div>\n",
       "<style scoped>\n",
       "    .dataframe tbody tr th:only-of-type {\n",
       "        vertical-align: middle;\n",
       "    }\n",
       "\n",
       "    .dataframe tbody tr th {\n",
       "        vertical-align: top;\n",
       "    }\n",
       "\n",
       "    .dataframe thead th {\n",
       "        text-align: right;\n",
       "    }\n",
       "</style>\n",
       "<table border=\"1\" class=\"dataframe\">\n",
       "  <thead>\n",
       "    <tr style=\"text-align: right;\">\n",
       "      <th></th>\n",
       "      <th>date</th>\n",
       "      <th>store_nbr</th>\n",
       "      <th>family</th>\n",
       "      <th>onpromotion</th>\n",
       "      <th>to_keep</th>\n",
       "      <th>closed_store</th>\n",
       "      <th>train_set</th>\n",
       "      <th>is_weekend</th>\n",
       "      <th>weekday</th>\n",
       "    </tr>\n",
       "  </thead>\n",
       "  <tbody>\n",
       "    <tr>\n",
       "      <th>0.0</th>\n",
       "      <td>2013-01-01</td>\n",
       "      <td>1</td>\n",
       "      <td>AUTOMOTIVE</td>\n",
       "      <td>0</td>\n",
       "      <td>False</td>\n",
       "      <td>False</td>\n",
       "      <td>True</td>\n",
       "      <td>False</td>\n",
       "      <td>1</td>\n",
       "    </tr>\n",
       "    <tr>\n",
       "      <th>890.0</th>\n",
       "      <td>2013-01-01</td>\n",
       "      <td>33</td>\n",
       "      <td>SEAFOOD</td>\n",
       "      <td>0</td>\n",
       "      <td>False</td>\n",
       "      <td>False</td>\n",
       "      <td>True</td>\n",
       "      <td>False</td>\n",
       "      <td>1</td>\n",
       "    </tr>\n",
       "    <tr>\n",
       "      <th>2.0</th>\n",
       "      <td>2013-01-01</td>\n",
       "      <td>1</td>\n",
       "      <td>BEAUTY</td>\n",
       "      <td>0</td>\n",
       "      <td>False</td>\n",
       "      <td>False</td>\n",
       "      <td>True</td>\n",
       "      <td>False</td>\n",
       "      <td>1</td>\n",
       "    </tr>\n",
       "    <tr>\n",
       "      <th>3.0</th>\n",
       "      <td>2013-01-01</td>\n",
       "      <td>1</td>\n",
       "      <td>BEVERAGES</td>\n",
       "      <td>0</td>\n",
       "      <td>False</td>\n",
       "      <td>False</td>\n",
       "      <td>True</td>\n",
       "      <td>False</td>\n",
       "      <td>1</td>\n",
       "    </tr>\n",
       "    <tr>\n",
       "      <th>4.0</th>\n",
       "      <td>2013-01-01</td>\n",
       "      <td>1</td>\n",
       "      <td>BOOKS</td>\n",
       "      <td>0</td>\n",
       "      <td>False</td>\n",
       "      <td>False</td>\n",
       "      <td>True</td>\n",
       "      <td>False</td>\n",
       "      <td>1</td>\n",
       "    </tr>\n",
       "  </tbody>\n",
       "</table>\n",
       "</div>"
      ],
      "text/plain": [
       "            date store_nbr      family onpromotion  to_keep  closed_store  \\\n",
       "0.0   2013-01-01         1  AUTOMOTIVE           0    False         False   \n",
       "890.0 2013-01-01        33     SEAFOOD           0    False         False   \n",
       "2.0   2013-01-01         1      BEAUTY           0    False         False   \n",
       "3.0   2013-01-01         1   BEVERAGES           0    False         False   \n",
       "4.0   2013-01-01         1       BOOKS           0    False         False   \n",
       "\n",
       "       train_set  is_weekend  weekday  \n",
       "0.0         True       False        1  \n",
       "890.0       True       False        1  \n",
       "2.0         True       False        1  \n",
       "3.0         True       False        1  \n",
       "4.0         True       False        1  "
      ]
     },
     "execution_count": 39,
     "metadata": {},
     "output_type": "execute_result"
    }
   ],
   "source": [
    "train.head()"
   ]
  },
  {
   "cell_type": "code",
   "execution_count": 40,
   "id": "90ddfbac-125d-404d-ad41-5e6f5801b47c",
   "metadata": {},
   "outputs": [
    {
     "data": {
      "text/html": [
       "<div>\n",
       "<style scoped>\n",
       "    .dataframe tbody tr th:only-of-type {\n",
       "        vertical-align: middle;\n",
       "    }\n",
       "\n",
       "    .dataframe tbody tr th {\n",
       "        vertical-align: top;\n",
       "    }\n",
       "\n",
       "    .dataframe thead th {\n",
       "        text-align: right;\n",
       "    }\n",
       "</style>\n",
       "<table border=\"1\" class=\"dataframe\">\n",
       "  <thead>\n",
       "    <tr style=\"text-align: right;\">\n",
       "      <th></th>\n",
       "      <th>date</th>\n",
       "      <th>store_nbr</th>\n",
       "      <th>family</th>\n",
       "      <th>to_keep</th>\n",
       "      <th>sales</th>\n",
       "      <th>train_set</th>\n",
       "      <th>closed_store</th>\n",
       "      <th>log_sales</th>\n",
       "      <th>mean</th>\n",
       "      <th>mean_log</th>\n",
       "      <th>prediction</th>\n",
       "    </tr>\n",
       "  </thead>\n",
       "  <tbody>\n",
       "    <tr>\n",
       "      <th>0.0</th>\n",
       "      <td>2013-01-01</td>\n",
       "      <td>1</td>\n",
       "      <td>AUTOMOTIVE</td>\n",
       "      <td>False</td>\n",
       "      <td>0.0</td>\n",
       "      <td>True</td>\n",
       "      <td>False</td>\n",
       "      <td>0.0</td>\n",
       "      <td>NaN</td>\n",
       "      <td>NaN</td>\n",
       "      <td>NaN</td>\n",
       "    </tr>\n",
       "    <tr>\n",
       "      <th>890.0</th>\n",
       "      <td>2013-01-01</td>\n",
       "      <td>33</td>\n",
       "      <td>SEAFOOD</td>\n",
       "      <td>False</td>\n",
       "      <td>0.0</td>\n",
       "      <td>True</td>\n",
       "      <td>False</td>\n",
       "      <td>0.0</td>\n",
       "      <td>NaN</td>\n",
       "      <td>NaN</td>\n",
       "      <td>NaN</td>\n",
       "    </tr>\n",
       "    <tr>\n",
       "      <th>2.0</th>\n",
       "      <td>2013-01-01</td>\n",
       "      <td>1</td>\n",
       "      <td>BEAUTY</td>\n",
       "      <td>False</td>\n",
       "      <td>0.0</td>\n",
       "      <td>True</td>\n",
       "      <td>False</td>\n",
       "      <td>0.0</td>\n",
       "      <td>NaN</td>\n",
       "      <td>NaN</td>\n",
       "      <td>NaN</td>\n",
       "    </tr>\n",
       "    <tr>\n",
       "      <th>3.0</th>\n",
       "      <td>2013-01-01</td>\n",
       "      <td>1</td>\n",
       "      <td>BEVERAGES</td>\n",
       "      <td>False</td>\n",
       "      <td>0.0</td>\n",
       "      <td>True</td>\n",
       "      <td>False</td>\n",
       "      <td>0.0</td>\n",
       "      <td>NaN</td>\n",
       "      <td>NaN</td>\n",
       "      <td>NaN</td>\n",
       "    </tr>\n",
       "    <tr>\n",
       "      <th>4.0</th>\n",
       "      <td>2013-01-01</td>\n",
       "      <td>1</td>\n",
       "      <td>BOOKS</td>\n",
       "      <td>False</td>\n",
       "      <td>0.0</td>\n",
       "      <td>True</td>\n",
       "      <td>False</td>\n",
       "      <td>0.0</td>\n",
       "      <td>NaN</td>\n",
       "      <td>NaN</td>\n",
       "      <td>NaN</td>\n",
       "    </tr>\n",
       "  </tbody>\n",
       "</table>\n",
       "</div>"
      ],
      "text/plain": [
       "            date store_nbr      family  to_keep  sales  train_set  \\\n",
       "0.0   2013-01-01         1  AUTOMOTIVE    False    0.0       True   \n",
       "890.0 2013-01-01        33     SEAFOOD    False    0.0       True   \n",
       "2.0   2013-01-01         1      BEAUTY    False    0.0       True   \n",
       "3.0   2013-01-01         1   BEVERAGES    False    0.0       True   \n",
       "4.0   2013-01-01         1       BOOKS    False    0.0       True   \n",
       "\n",
       "       closed_store  log_sales  mean  mean_log  prediction  \n",
       "0.0           False        0.0   NaN       NaN         NaN  \n",
       "890.0         False        0.0   NaN       NaN         NaN  \n",
       "2.0           False        0.0   NaN       NaN         NaN  \n",
       "3.0           False        0.0   NaN       NaN         NaN  \n",
       "4.0           False        0.0   NaN       NaN         NaN  "
      ]
     },
     "execution_count": 40,
     "metadata": {},
     "output_type": "execute_result"
    }
   ],
   "source": [
    "target.head()"
   ]
  },
  {
   "cell_type": "code",
   "execution_count": 41,
   "id": "1da75aef-f7ee-4950-9c99-ad0d96275559",
   "metadata": {},
   "outputs": [],
   "source": [
    "train['is_weekend'] = train['date'].dt.weekday > 4\n",
    "#one-hot-encode weekday\n",
    "train['weekday'] = train['date'].dt.weekday\n",
    "train = pd.concat([train,pd.get_dummies(train['weekday']).drop([0], axis = 1)], axis = 1)"
   ]
  },
  {
   "cell_type": "code",
   "execution_count": 42,
   "id": "0042dc2a-78a1-4d53-8b82-8b6f27f2d515",
   "metadata": {},
   "outputs": [
    {
     "name": "stdout",
     "output_type": "stream",
     "text": [
      "0:06:13.854739\n"
     ]
    }
   ],
   "source": [
    "# 1 day and 1 week shift\n",
    "time = datetime(2023,1,1).utcnow()\n",
    "cut_date = datetime(2016,1,1)\n",
    "temp = target.loc[target['date'] >= cut_date, ['date','store_nbr','family','sales','log_sales']].copy()\n",
    "temp['onpromotion'] = train.loc[target['date'] >= cut_date, 'onpromotion']\n",
    "temp_train = train.loc[target['date'] >= cut_date, ['store_nbr','family']].copy()\n",
    "for (store_nb,fam) in train[['store_nbr','family']].groupby(['store_nbr','family']).mean().index:\n",
    "    temp2 = temp.loc[(temp_train['store_nbr'] == store_nb) & (temp_train['family'] == fam),['sales','date','log_sales','onpromotion']].sort_values('date').set_index('date').asfreq('d')\n",
    "    temp2['sales_shift_1d'] = temp2['sales'].shift(1)\n",
    "    temp2['sales_shift_7d'] = temp2['sales'].shift(7)\n",
    "    temp2['log_sales_shift_1d'] = temp2['log_sales'].shift(1)\n",
    "    temp2['log_sales_shift_7d'] = temp2['log_sales'].shift(7)\n",
    "    temp2['onpromotion_shift_1d'] = temp2['onpromotion'].shift(1)\n",
    "    temp2['onpromotion_shift_7d'] = temp2['onpromotion'].shift(7)\n",
    "    temp_train.loc[(temp_train['store_nbr'] == store_nb) & (temp_train['family'] == fam),['sales_shift_1d','sales_shift_7d','log_sales_shift_1d','log_sales_shift_7d','onpromotion_shift_1d','onpromotion_shift_7d']] = temp2[['sales_shift_1d','sales_shift_7d','log_sales_shift_1d','log_sales_shift_7d','onpromotion_shift_1d','onpromotion_shift_7d']].values\n",
    "train.loc[target['date'] >= cut_date,['sales_shift_1d','sales_shift_7d','log_sales_shift_1d','log_sales_shift_7d','onpromotion_shift_1d','onpromotion_shift_7d']] = temp_train[['sales_shift_1d','sales_shift_7d','log_sales_shift_1d','log_sales_shift_7d','onpromotion_shift_1d','onpromotion_shift_7d']].values\n",
    "print(datetime(2023,1,1).utcnow()-time)"
   ]
  },
  {
   "cell_type": "markdown",
   "id": "83c3816c-01ae-46a7-a93b-a5f6a1bf668a",
   "metadata": {},
   "source": [
    "# Models"
   ]
  },
  {
   "cell_type": "markdown",
   "id": "0df79dfe-4ff7-42aa-a24c-78dd4f392b5a",
   "metadata": {},
   "source": [
    "## Individual means"
   ]
  },
  {
   "cell_type": "code",
   "execution_count": 43,
   "id": "588ba42f-efc7-4458-bfaf-34ae240ba279",
   "metadata": {},
   "outputs": [
    {
     "data": {
      "text/html": [
       "<div>\n",
       "<style scoped>\n",
       "    .dataframe tbody tr th:only-of-type {\n",
       "        vertical-align: middle;\n",
       "    }\n",
       "\n",
       "    .dataframe tbody tr th {\n",
       "        vertical-align: top;\n",
       "    }\n",
       "\n",
       "    .dataframe thead th {\n",
       "        text-align: right;\n",
       "    }\n",
       "</style>\n",
       "<table border=\"1\" class=\"dataframe\">\n",
       "  <thead>\n",
       "    <tr style=\"text-align: right;\">\n",
       "      <th></th>\n",
       "      <th></th>\n",
       "      <th>sales</th>\n",
       "      <th>log_sales</th>\n",
       "    </tr>\n",
       "    <tr>\n",
       "      <th>store_nbr</th>\n",
       "      <th>family</th>\n",
       "      <th></th>\n",
       "      <th></th>\n",
       "    </tr>\n",
       "  </thead>\n",
       "  <tbody>\n",
       "    <tr>\n",
       "      <th rowspan=\"5\" valign=\"top\">1</th>\n",
       "      <th>AUTOMOTIVE</th>\n",
       "      <td>4.243299</td>\n",
       "      <td>1.491005</td>\n",
       "    </tr>\n",
       "    <tr>\n",
       "      <th>BEAUTY</th>\n",
       "      <td>2.909278</td>\n",
       "      <td>1.201914</td>\n",
       "    </tr>\n",
       "    <tr>\n",
       "      <th>BEVERAGES</th>\n",
       "      <td>2081.872165</td>\n",
       "      <td>7.590513</td>\n",
       "    </tr>\n",
       "    <tr>\n",
       "      <th>BOOKS</th>\n",
       "      <td>0.886700</td>\n",
       "      <td>0.480790</td>\n",
       "    </tr>\n",
       "    <tr>\n",
       "      <th>BREAD/BAKERY</th>\n",
       "      <td>386.316979</td>\n",
       "      <td>5.896795</td>\n",
       "    </tr>\n",
       "  </tbody>\n",
       "</table>\n",
       "</div>"
      ],
      "text/plain": [
       "                              sales  log_sales\n",
       "store_nbr family                              \n",
       "1         AUTOMOTIVE       4.243299   1.491005\n",
       "          BEAUTY           2.909278   1.201914\n",
       "          BEVERAGES     2081.872165   7.590513\n",
       "          BOOKS            0.886700   0.480790\n",
       "          BREAD/BAKERY   386.316979   5.896795"
      ]
     },
     "execution_count": 43,
     "metadata": {},
     "output_type": "execute_result"
    }
   ],
   "source": [
    "individual_means = target.loc[target['to_keep'] & target['train_set'] & ~target['closed_store'], ['store_nbr','family','sales','log_sales']].groupby(['store_nbr','family']).mean()\n",
    "individual_means.head()"
   ]
  },
  {
   "cell_type": "code",
   "execution_count": 7,
   "id": "3e20aabd-c6f0-4f6c-aa22-b188407c2d99",
   "metadata": {},
   "outputs": [
    {
     "name": "stdout",
     "output_type": "stream",
     "text": [
      "0:00:30.236784\n"
     ]
    }
   ],
   "source": [
    "time = datetime(2023,1,1).utcnow()\n",
    "temp = target.loc[target['to_keep'] & (~target['train_set']) & (~target['closed_store']),['store_nbr','family']].copy()\n",
    "for (store_nb,fam) in individual_means.index:\n",
    "    temp.loc[(temp['store_nbr'] == store_nb) & (temp['family'] == fam),['mean','mean_log']] = individual_means.loc[(store_nb,fam),['sales','log_sales']].values\n",
    "temp['mean'] = temp['mean'].fillna(0)\n",
    "temp['mean_log'] = temp['mean_log'].fillna(0)\n",
    "target.loc[target['to_keep'] & ~target['train_set'] & (~target['closed_store']),['mean','mean_log']] = temp[['mean','mean_log']].values\n",
    "print(datetime(2023,1,1).utcnow()-time)"
   ]
  },
  {
   "cell_type": "code",
   "execution_count": 8,
   "id": "38721a2c-1ea3-4d30-8dab-f16d7e0b3d30",
   "metadata": {},
   "outputs": [
    {
     "name": "stdout",
     "output_type": "stream",
     "text": [
      "Score mean: 0.5348300323162434\n",
      "Score mean log: 0.5528606333818018\n"
     ]
    }
   ],
   "source": [
    "print('Score mean:',RMSLE(target.loc[target['to_keep'] & ~target['train_set'] & (~target['closed_store']),'sales'],target.loc[target['to_keep'] & ~target['train_set'] & (~target['closed_store']),'mean']))\n",
    "print('Score mean log:',RMSLE(target.loc[target['to_keep'] & ~target['train_set'] & (~target['closed_store']),'sales'],np.exp(target.loc[target['to_keep'] & ~target['train_set'] & (~target['closed_store']),'mean_log'])-1))\n",
    "\n",
    "scores = pd.DataFrame([],columns = ['mean','mean_log','score'])\n",
    "scores.loc[0,['mean','mean_log','score']] = [True, False, RMSLE(target.loc[target['to_keep'] & ~target['train_set'] & (~target['closed_store']),'sales'],target.loc[target['to_keep'] & ~target['train_set'] & (~target['closed_store']),'mean'])]\n",
    "scores.loc[1,['mean','mean_log','score']] = [False, True, RMSLE(target.loc[target['to_keep'] & ~target['train_set'] & (~target['closed_store']),'sales'],np.exp(target.loc[target['to_keep'] & ~target['train_set'] & (~target['closed_store']),'mean_log'])-1)]"
   ]
  },
  {
   "cell_type": "markdown",
   "id": "b27baf1c-f31f-42dd-9034-9104a3ea3302",
   "metadata": {},
   "source": [
    "## Linear regressions"
   ]
  },
  {
   "cell_type": "code",
   "execution_count": 9,
   "id": "ea972925-fa86-4c06-8999-2786754381e8",
   "metadata": {},
   "outputs": [
    {
     "name": "stdout",
     "output_type": "stream",
     "text": [
      "Linreg score:  0.0036384024366502565\n",
      "Slope:  [-27.6968895   -6.10968107 -85.36903977 -13.13383102 120.3319591\n",
      " 165.88514046]\n",
      "Constant:  475.6371352378489\n",
      "\n",
      "Score: 3.361078939956314\n"
     ]
    }
   ],
   "source": [
    "features = [1,2,3,4,5,6]\n",
    "target_name = 'sales'\n",
    "X = train.loc[train['to_keep'] & train['train_set'] & (~train['closed_store']) & (~train[features].isnull().any(axis = 1)),features].values\n",
    "y = target.loc[target['to_keep'] & target['train_set'] & (~train['closed_store']) & (~train[features].isnull().any(axis = 1)),target_name].values\n",
    "linreg = LinearRegression().fit(X,y)\n",
    "print('Linreg score: ',linreg.score(X,y))\n",
    "print('Slope: ',linreg.coef_)\n",
    "print('Constant: ',linreg.intercept_)\n",
    "\n",
    "print()\n",
    "print('Score:',RMSLE(target.loc[target['to_keep'] & ~target['train_set']  & (~target['closed_store']),'sales'],linreg.predict(train.loc[train['to_keep'] & ~train['train_set'] & (~target['closed_store']),features].values)))\n",
    "\n",
    "scores.loc[2,['mean','mean_log','lin_reg','score']] = [False, False, True, RMSLE(target.loc[target['to_keep'] & ~target['train_set'] & (~target['closed_store']),'sales'],linreg.predict(train.loc[train['to_keep'] & ~train['train_set'] & (~target['closed_store']),features].values))]"
   ]
  },
  {
   "cell_type": "code",
   "execution_count": 10,
   "id": "ac33c41f-2996-406b-b088-89f5ed41ab9d",
   "metadata": {},
   "outputs": [
    {
     "name": "stdout",
     "output_type": "stream",
     "text": [
      "Linreg score:  0.002808262316481125\n",
      "Slope:  [-0.03244182 -0.02988145 -0.08634079  0.04129697  0.2891093   0.22048343]\n",
      "Constant:  3.729513559914127\n",
      "\n",
      "Score: 2.422729275421135\n"
     ]
    }
   ],
   "source": [
    "features = [1,2,3,4,5,6]\n",
    "target_name = 'log_sales'\n",
    "X = train.loc[train['to_keep'] & train['train_set'] & (~train['closed_store']) & (~train[features].isnull().any(axis = 1)),features].values\n",
    "y = target.loc[target['to_keep'] & target['train_set'] & (~train['closed_store']) & (~train[features].isnull().any(axis = 1)),target_name].values\n",
    "linreg = LinearRegression().fit(X,y)\n",
    "print('Linreg score: ',linreg.score(X,y))\n",
    "print('Slope: ',linreg.coef_)\n",
    "print('Constant: ',linreg.intercept_)\n",
    "\n",
    "print()\n",
    "print('Score:',RMSLE(target.loc[target['to_keep'] & ~target['train_set'] & (~train['closed_store']),'sales'],np.exp(linreg.predict(train.loc[train['to_keep'] & ~train['train_set'] & (~train['closed_store']),features].values))-1))\n",
    "\n",
    "scores.loc[3,['mean','mean_log','lin_reg','log_target','score']] = [False, False, True, True, RMSLE(target.loc[target['to_keep'] & ~target['train_set'] & (~train['closed_store']),'sales'],np.exp(linreg.predict(train.loc[train['to_keep'] & ~train['train_set'] & (~train['closed_store']),features].values))-1)]"
   ]
  },
  {
   "cell_type": "code",
   "execution_count": 76,
   "id": "e5294b10-7d5a-4f17-bce0-426ce8e97d1c",
   "metadata": {},
   "outputs": [
    {
     "name": "stdout",
     "output_type": "stream",
     "text": [
      "1:23:41.148245\n"
     ]
    }
   ],
   "source": [
    "time = datetime(2023,1,1).utcnow()\n",
    "features = [1,2,3,4,5,6, 'onpromotion','onpromotion_shift_1d', 'onpromotion_shift_7d']\n",
    "target_name = 'log_sales'\n",
    "\n",
    "for (store_nb,fam) in individual_means.index:\n",
    "    X = train.loc[(train['store_nbr'] == store_nb) & (train['family'] == fam) & train['to_keep'] & train['train_set'] & (~train['closed_store']) & (~train[features].isnull().any(axis = 1)),features].values\n",
    "    y = target.loc[(train['store_nbr'] == store_nb) & (train['family'] == fam) & target['to_keep'] & target['train_set'] & (~train['closed_store']) & (~train[features].isnull().any(axis = 1)),target_name].values\n",
    "    linreg = LinearRegression().fit(X,y)\n",
    "    target.loc[(train['store_nbr'] == store_nb) & (train['family'] == fam) & (~train['closed_store']) & (~train['train_set']),'prediction'] = linreg.predict(train.loc[(train['store_nbr'] == store_nb) & (train['family'] == fam) & (~train['closed_store']) & ~train['train_set'],features].values)\n",
    "print(datetime(2023,1,1).utcnow()-time)"
   ]
  },
  {
   "cell_type": "code",
   "execution_count": 78,
   "id": "e4576d03-d75a-4873-8375-3c859dce5cb2",
   "metadata": {},
   "outputs": [
    {
     "data": {
      "text/plain": [
       "0.49705013366439255"
      ]
     },
     "execution_count": 78,
     "metadata": {},
     "output_type": "execute_result"
    }
   ],
   "source": [
    "scores.loc[11,['mean','mean_log','lin_reg','xgb','log_target','onpromotion','onpromotion_shifts', 'shop-wise models', 'score']] = [False, False, True, False, True, True, True, True, RMSLE(target.loc[~target['train_set'] & (~train['closed_store']),'sales'],np.exp(target.loc[~target['train_set'] & (~train['closed_store']),'prediction'])-1)]\n",
    "\n",
    "RMSLE(target.loc[~target['train_set'] & (~train['closed_store']),'sales'],np.exp(target.loc[~target['train_set'] & (~train['closed_store']),'prediction'])-1)"
   ]
  },
  {
   "cell_type": "code",
   "execution_count": 33,
   "id": "b8f11a73",
   "metadata": {},
   "outputs": [
    {
     "name": "stdout",
     "output_type": "stream",
     "text": [
      "0.49705013366439255\n"
     ]
    }
   ],
   "source": [
    "# To avoid re-calculating it\n",
    "scores.loc[11,['mean','mean_log','lin_reg','xgb','log_target','onpromotion','onpromotion_shifts', 'shop-wise models', 'score']] = [False, False, True, False, True, True, True, True, 0.49705013366439255]\n",
    "\n",
    "print(0.49705013366439255)"
   ]
  },
  {
   "cell_type": "code",
   "execution_count": 34,
   "id": "5a3f02fc",
   "metadata": {},
   "outputs": [
    {
     "name": "stdout",
     "output_type": "stream",
     "text": [
      "1:09:34.664956\n"
     ]
    }
   ],
   "source": [
    "time = datetime(2023,1,1).utcnow()\n",
    "features = [1,2,3,4,5,6, 'onpromotion','onpromotion_shift_1d', 'onpromotion_shift_7d']\n",
    "target_name = 'sales'\n",
    "\n",
    "for (store_nb,fam) in individual_means.index:\n",
    "    X = train.loc[(train['store_nbr'] == store_nb) & (train['family'] == fam) & train['to_keep'] & train['train_set'] & (~train['closed_store']) & (~train[features].isnull().any(axis = 1)),features].values\n",
    "    y = target.loc[(train['store_nbr'] == store_nb) & (train['family'] == fam) & target['to_keep'] & target['train_set'] & (~train['closed_store']) & (~train[features].isnull().any(axis = 1)),target_name].values\n",
    "    linreg = LinearRegression().fit(X,y)\n",
    "    target.loc[(train['store_nbr'] == store_nb) & (train['family'] == fam) & (~train['closed_store']) & (~train['train_set']),'prediction'] = linreg.predict(train.loc[(train['store_nbr'] == store_nb) & (train['family'] == fam) & (~train['closed_store']) & ~train['train_set'],features].values)\n",
    "print(datetime(2023,1,1).utcnow()-time)"
   ]
  },
  {
   "cell_type": "code",
   "execution_count": 54,
   "id": "1b5451bc",
   "metadata": {},
   "outputs": [
    {
     "name": "stderr",
     "output_type": "stream",
     "text": [
      "/Library/Frameworks/Python.framework/Versions/3.10/lib/python3.10/site-packages/pandas/core/arraylike.py:402: RuntimeWarning: invalid value encountered in log\n",
      "  result = getattr(ufunc, method)(*inputs, **kwargs)\n",
      "/Library/Frameworks/Python.framework/Versions/3.10/lib/python3.10/site-packages/pandas/core/arraylike.py:402: RuntimeWarning: invalid value encountered in log\n",
      "  result = getattr(ufunc, method)(*inputs, **kwargs)\n"
     ]
    },
    {
     "data": {
      "text/plain": [
       "0.4766373613393779"
      ]
     },
     "execution_count": 54,
     "metadata": {},
     "output_type": "execute_result"
    }
   ],
   "source": [
    "scores.loc[12,['mean','mean_log','lin_reg','xgb','log_target','onpromotion','onpromotion_shifts', 'shop-wise models', 'score']] = [False, False, True, False, False, True, True, True, RMSLE(target.loc[~target['train_set'] & (~train['closed_store']),'sales'],target.loc[~target['train_set'] & (~train['closed_store']),'prediction'])]\n",
    "\n",
    "RMSLE(target.loc[~target['train_set'] & (~train['closed_store']),'sales'],target.loc[~target['train_set'] & (~train['closed_store']),'prediction'])"
   ]
  },
  {
   "cell_type": "code",
   "execution_count": 44,
   "id": "e7c3bdd1-511a-4b65-897e-ffa9f3f01663",
   "metadata": {},
   "outputs": [
    {
     "name": "stdout",
     "output_type": "stream",
     "text": [
      "0:02:06.117706\n"
     ]
    }
   ],
   "source": [
    "time = datetime(2023,1,1).utcnow()\n",
    "temp = target.loc[target['to_keep'] & (target['train_set']),['store_nbr','family']].copy()\n",
    "for (store_nb,fam) in individual_means.index:\n",
    "    temp.loc[(temp['store_nbr'] == store_nb) & (temp['family'] == fam),['mean','mean_log']] = individual_means.loc[(store_nb,fam),['sales','log_sales']].values\n",
    "temp['mean'] = temp['mean'].fillna(0)\n",
    "temp['mean_log'] = temp['mean_log'].fillna(0)\n",
    "target.loc[target['to_keep'] & target['train_set'],['mean','mean_log']] = temp[['mean','mean_log']].values\n",
    "print(datetime(2023,1,1).utcnow()-time)"
   ]
  },
  {
   "cell_type": "code",
   "execution_count": 45,
   "id": "49e96aca-956f-432e-82d3-c4a07e140b71",
   "metadata": {},
   "outputs": [
    {
     "name": "stdout",
     "output_type": "stream",
     "text": [
      "Linreg score:  0.030978859690867666\n",
      "Slope:  [-27.75451847  -6.14546914 -85.44524833 -13.23120583 120.24812352\n",
      " 165.70980495]\n",
      "Constant:  -21.616160067085396\n",
      "\n",
      "Score: 1.5715450056325782\n"
     ]
    },
    {
     "name": "stderr",
     "output_type": "stream",
     "text": [
      "/Library/Frameworks/Python.framework/Versions/3.10/lib/python3.10/site-packages/pandas/core/arraylike.py:402: RuntimeWarning: invalid value encountered in log\n",
      "  result = getattr(ufunc, method)(*inputs, **kwargs)\n",
      "/Library/Frameworks/Python.framework/Versions/3.10/lib/python3.10/site-packages/pandas/core/arraylike.py:402: RuntimeWarning: invalid value encountered in log\n",
      "  result = getattr(ufunc, method)(*inputs, **kwargs)\n"
     ]
    }
   ],
   "source": [
    "features = [1,2,3,4,5,6]\n",
    "target_name = 'sales'\n",
    "X = train.loc[train['to_keep'] & train['train_set'] & (~train['closed_store']) & (~train[features].isnull().any(axis = 1)),features].values\n",
    "y = target.loc[target['to_keep'] & target['train_set'] & (~train['closed_store']) & (~train[features].isnull().any(axis = 1)),target_name].values - target.loc[target['to_keep'] & target['train_set'] & (~train['closed_store']) & (~train[features].isnull().any(axis = 1)),'mean'].values\n",
    "linreg = LinearRegression().fit(X,y)\n",
    "print('Linreg score: ',linreg.score(X,y))\n",
    "print('Slope: ',linreg.coef_)\n",
    "print('Constant: ',linreg.intercept_)\n",
    "\n",
    "print()\n",
    "print('Score:',RMSLE(target.loc[target['to_keep'] & ~target['train_set'] & (~train['closed_store']),'sales'],target.loc[target['to_keep'] & ~target['train_set'] & (~train['closed_store']) & (~train[features].isnull().any(axis = 1)),'mean'].values+linreg.predict(train.loc[train['to_keep'] & ~train['train_set'] & (~train['closed_store']),features].values)))\n",
    "\n",
    "scores.loc[4,['mean','mean_log','lin_reg','log_target','score']] = [True, False, True, False, RMSLE(target.loc[target['to_keep'] & ~target['train_set'] & (~train['closed_store']),'sales'],target.loc[target['to_keep'] & ~target['train_set'] & (~train['closed_store']) & (~train[features].isnull().any(axis = 1)),'mean'].values+linreg.predict(train.loc[train['to_keep'] & ~train['train_set'] & (~train['closed_store']),features].values))]"
   ]
  },
  {
   "cell_type": "code",
   "execution_count": 46,
   "id": "ac6fdfc8-456c-4dad-839a-442edb21757d",
   "metadata": {},
   "outputs": [
    {
     "name": "stdout",
     "output_type": "stream",
     "text": [
      "Linreg score:  0.04466715939516164\n",
      "Slope:  [-0.03287367 -0.0301541  -0.08649189  0.04098133  0.28848837  0.21923209]\n",
      "Constant:  -0.05687011546916776\n",
      "\n",
      "Score: 0.5337126788075726\n"
     ]
    }
   ],
   "source": [
    "features = [1,2,3,4,5,6]\n",
    "target_name = 'log_sales'\n",
    "X = train.loc[train['to_keep'] & train['train_set'] & (~train['closed_store']) & (~train[features].isnull().any(axis = 1)),features].values\n",
    "y = target.loc[target['to_keep'] & target['train_set'] & (~train['closed_store']) & (~train[features].isnull().any(axis = 1)),target_name].values - target.loc[target['to_keep'] & target['train_set'] & (~train['closed_store']) & (~train[features].isnull().any(axis = 1)),'mean_log'].values\n",
    "linreg = LinearRegression().fit(X,y)\n",
    "print('Linreg score: ',linreg.score(X,y))\n",
    "print('Slope: ',linreg.coef_)\n",
    "print('Constant: ',linreg.intercept_)\n",
    "\n",
    "print()\n",
    "print('Score:',RMSLE(target.loc[target['to_keep'] & ~target['train_set'] & (~train['closed_store']),'sales'],np.exp(target.loc[target['to_keep'] & ~target['train_set'] & (~train['closed_store']),'mean_log'].values+linreg.predict(train.loc[train['to_keep'] & ~train['train_set'] & (~train['closed_store']),features].values))-1))\n",
    "\n",
    "scores.loc[5,['mean','mean_log','lin_reg','log_target','score']] = [False, True, True, True, RMSLE(target.loc[target['to_keep'] & ~target['train_set'] & (~train['closed_store']),'sales'],np.exp(target.loc[target['to_keep'] & ~target['train_set'] & (~train['closed_store']),'mean_log'].values+linreg.predict(train.loc[train['to_keep'] & ~train['train_set'] & (~train['closed_store']),features].values))-1)]"
   ]
  },
  {
   "cell_type": "code",
   "execution_count": 47,
   "id": "66d42828",
   "metadata": {},
   "outputs": [
    {
     "name": "stdout",
     "output_type": "stream",
     "text": [
      "Linreg score:  0.05270039321492492\n",
      "Slope:  [-0.03702937 -0.04430859 -0.08071621  0.0307231   0.29026606  0.21738338\n",
      "  0.00413875 -0.00088112 -0.00086201]\n",
      "Constant:  -0.06952633553288397\n",
      "\n",
      "Score: 0.5317181603534838\n"
     ]
    }
   ],
   "source": [
    "features = [1,2,3,4,5,6,'onpromotion','onpromotion_shift_1d', 'onpromotion_shift_7d']\n",
    "target_name = 'log_sales'\n",
    "X = train.loc[train['to_keep'] & train['train_set'] & (~train['closed_store']) & (~train[features].isnull().any(axis = 1)),features].values\n",
    "y = target.loc[target['to_keep'] & target['train_set'] & (~train['closed_store']) & (~train[features].isnull().any(axis = 1)),target_name].values - target.loc[target['to_keep'] & target['train_set'] & (~train['closed_store']) & (~train[features].isnull().any(axis = 1)),'mean_log'].values\n",
    "linreg = LinearRegression().fit(X,y)\n",
    "print('Linreg score: ',linreg.score(X,y))\n",
    "print('Slope: ',linreg.coef_)\n",
    "print('Constant: ',linreg.intercept_)\n",
    "\n",
    "print()\n",
    "print('Score:',RMSLE(target.loc[target['to_keep'] & ~target['train_set'] & (~train['closed_store']),'sales'],np.exp(target.loc[target['to_keep'] & ~target['train_set'] & (~train['closed_store']),'mean_log'].values+linreg.predict(train.loc[train['to_keep'] & ~train['train_set'] & (~train['closed_store']),features].values))-1))\n",
    "\n",
    "scores.loc[9,['mean','mean_log','lin_reg','log_target','onpromotion','onpromotion_shifts','score']] = [False, True, True, True, True, True, RMSLE(target.loc[target['to_keep'] & ~target['train_set'] & (~train['closed_store']),'sales'],np.exp(target.loc[target['to_keep'] & ~target['train_set'] & (~train['closed_store']),'mean_log'].values+linreg.predict(train.loc[train['to_keep'] & ~train['train_set'] & (~train['closed_store']),features].values))-1)]"
   ]
  },
  {
   "cell_type": "code",
   "execution_count": 48,
   "id": "6fadb580",
   "metadata": {},
   "outputs": [
    {
     "name": "stdout",
     "output_type": "stream",
     "text": [
      "Linreg score:  0.0699279152710609\n",
      "Slope:  [-36.66775702 -31.49690856 -71.59259641 -33.66702357 127.08568764\n",
      " 159.8105231    5.38088814  -2.91510091   0.37837303]\n",
      "Constant:  -34.78218542772812\n",
      "\n",
      "Score: 1.556594660171177\n"
     ]
    },
    {
     "name": "stderr",
     "output_type": "stream",
     "text": [
      "/Library/Frameworks/Python.framework/Versions/3.10/lib/python3.10/site-packages/pandas/core/arraylike.py:402: RuntimeWarning: invalid value encountered in log\n",
      "  result = getattr(ufunc, method)(*inputs, **kwargs)\n",
      "/Library/Frameworks/Python.framework/Versions/3.10/lib/python3.10/site-packages/pandas/core/arraylike.py:402: RuntimeWarning: invalid value encountered in log\n",
      "  result = getattr(ufunc, method)(*inputs, **kwargs)\n"
     ]
    }
   ],
   "source": [
    "features = [1,2,3,4,5,6,'onpromotion','onpromotion_shift_1d', 'onpromotion_shift_7d']\n",
    "target_name = 'sales'\n",
    "X = train.loc[train['to_keep'] & train['train_set'] & (~train['closed_store']) & (~train[features].isnull().any(axis = 1)),features].values\n",
    "y = target.loc[target['to_keep'] & target['train_set'] & (~train['closed_store']) & (~train[features].isnull().any(axis = 1)),target_name].values - target.loc[target['to_keep'] & target['train_set'] & (~train['closed_store']) & (~train[features].isnull().any(axis = 1)),'mean'].values\n",
    "linreg = LinearRegression().fit(X,y)\n",
    "print('Linreg score: ',linreg.score(X,y))\n",
    "print('Slope: ',linreg.coef_)\n",
    "print('Constant: ',linreg.intercept_)\n",
    "\n",
    "print()\n",
    "print('Score:',RMSLE(target.loc[target['to_keep'] & ~target['train_set'] & (~train['closed_store']),target_name],target.loc[target['to_keep'] & ~target['train_set'] & (~train['closed_store']),'mean'].values+linreg.predict(train.loc[train['to_keep'] & ~train['train_set'] & (~train['closed_store']),features].values)))\n",
    "\n",
    "scores.loc[10,['mean','mean_log','lin_reg','log_target','onpromotion','onpromotion_shifts','score']] = [True, False, True, False, True, True, RMSLE(target.loc[target['to_keep'] & ~target['train_set'] & (~train['closed_store']),target_name],target.loc[target['to_keep'] & ~target['train_set'] & (~train['closed_store']),'mean'].values+linreg.predict(train.loc[train['to_keep'] & ~train['train_set'] & (~train['closed_store']),features].values))]"
   ]
  },
  {
   "cell_type": "markdown",
   "id": "119535a3-ed17-42a3-ba01-98803e0ff751",
   "metadata": {},
   "source": [
    "## Gradient boost"
   ]
  },
  {
   "cell_type": "code",
   "execution_count": 49,
   "id": "21baeceb-9e80-4a48-9561-06e2ac4550a7",
   "metadata": {},
   "outputs": [
    {
     "name": "stdout",
     "output_type": "stream",
     "text": [
      "Score: 2.4227292904677444\n"
     ]
    }
   ],
   "source": [
    "features = [1,2,3,4,5,6]\n",
    "target_name = 'log_sales'\n",
    "X = train.loc[train['to_keep'] & train['train_set'] & (~train['closed_store']) & (~train[features].isnull().any(axis = 1)),features].values\n",
    "y = target.loc[target['to_keep'] & target['train_set'] & (~train['closed_store']) & (~train[features].isnull().any(axis = 1)),target_name].values\n",
    "xgb = XGBRegressor()\n",
    "xgb.fit(X, y)\n",
    "\n",
    "print('Score:',RMSLE(target.loc[target['to_keep'] & ~target['train_set'] & (~train['closed_store']),'sales'],np.exp(xgb.predict(train.loc[train['to_keep'] & ~train['train_set'] & (~train['closed_store']),features].values))-1))\n",
    "\n",
    "scores.loc[6,['mean','mean_log','lin_reg','xgb','log_target','score']] = [False, False, False, True, True, RMSLE(target.loc[target['to_keep'] & ~target['train_set'] & (~train['closed_store']),'sales'],np.exp(xgb.predict(train.loc[train['to_keep'] & ~train['train_set'] & (~train['closed_store']),features].values))-1)]"
   ]
  },
  {
   "cell_type": "code",
   "execution_count": 50,
   "id": "9c16048f-848a-4177-bfe0-03c882c585cf",
   "metadata": {},
   "outputs": [
    {
     "name": "stdout",
     "output_type": "stream",
     "text": [
      "Score: 1.59519265141103\n"
     ]
    }
   ],
   "source": [
    "features = [1,2,3,4,5,6, 'onpromotion']\n",
    "target_name = 'log_sales'\n",
    "X = train.loc[train['to_keep'] & train['train_set'] & (~train['closed_store']) & (~train[features].isnull().any(axis = 1)),features].values\n",
    "y = target.loc[target['to_keep'] & target['train_set'] & (~train['closed_store']) & (~train[features].isnull().any(axis = 1)),target_name].values\n",
    "xgb = XGBRegressor()\n",
    "xgb.fit(X, y)\n",
    "\n",
    "print('Score:',RMSLE(target.loc[target['to_keep'] & ~target['train_set'] & (~train['closed_store']),'sales'],np.exp(xgb.predict(train.loc[train['to_keep'] & ~train['train_set'] & (~train['closed_store']),features].values))-1))\n",
    "\n",
    "scores.loc[7,['mean','mean_log','lin_reg','xgb','log_target','onpromotion','score']] = [False, False, False, True, True, True, RMSLE(target.loc[target['to_keep'] & ~target['train_set'] & (~train['closed_store']),'sales'],np.exp(xgb.predict(train.loc[train['to_keep'] & ~train['train_set'] & (~train['closed_store']),features].values))-1)]"
   ]
  },
  {
   "cell_type": "code",
   "execution_count": 51,
   "id": "440f7bf3-4190-4845-a202-ef3ccef06827",
   "metadata": {},
   "outputs": [
    {
     "name": "stdout",
     "output_type": "stream",
     "text": [
      "Score: 1.4678890945018452\n"
     ]
    }
   ],
   "source": [
    "features = [1,2,3,4,5,6, 'onpromotion','onpromotion_shift_1d', 'onpromotion_shift_7d']\n",
    "target_name = 'log_sales'\n",
    "X = train.loc[train['to_keep'] & train['train_set'] & (~train['closed_store']) & (~train[features].isnull().any(axis = 1)),features].values\n",
    "y = target.loc[target['to_keep'] & target['train_set'] & (~train['closed_store']) & (~train[features].isnull().any(axis = 1)),target_name].values\n",
    "xgb = XGBRegressor()\n",
    "xgb.fit(X, y)\n",
    "\n",
    "print('Score:',RMSLE(target.loc[target['to_keep'] & ~target['train_set'] & (~train['closed_store']),'sales'],np.exp(xgb.predict(train.loc[train['to_keep'] & ~train['train_set'] & (~train['closed_store']),features].values))-1))\n",
    "\n",
    "scores.loc[8,['mean','mean_log','lin_reg','xgb','log_target','onpromotion','onpromotion_shifts', 'score']] = [False, False, False, True, True, True, True, RMSLE(target.loc[target['to_keep'] & ~target['train_set'] & (~train['closed_store']),'sales'],np.exp(xgb.predict(train.loc[train['to_keep'] & ~train['train_set'] & (~train['closed_store']),features].values))-1)]"
   ]
  },
  {
   "cell_type": "code",
   "execution_count": 52,
   "id": "2c26c040",
   "metadata": {},
   "outputs": [
    {
     "name": "stdout",
     "output_type": "stream",
     "text": [
      "\n",
      "Score: 0.5295791852370338\n"
     ]
    }
   ],
   "source": [
    "features = [1,2,3,4,5,6,'onpromotion','onpromotion_shift_1d', 'onpromotion_shift_7d']\n",
    "target_name = 'log_sales'\n",
    "X = train.loc[train['to_keep'] & train['train_set'] & (~train['closed_store']) & (~train[features].isnull().any(axis = 1)),features].values\n",
    "y = target.loc[target['to_keep'] & target['train_set'] & (~train['closed_store']) & (~train[features].isnull().any(axis = 1)),target_name].values - target.loc[target['to_keep'] & target['train_set'] & (~train['closed_store']) & (~train[features].isnull().any(axis = 1)),'mean_log'].values\n",
    "xgb = XGBRegressor()\n",
    "xgb.fit(X,y)\n",
    "\n",
    "print()\n",
    "print('Score:',RMSLE(target.loc[target['to_keep'] & ~target['train_set'] & (~train['closed_store']),'sales'],np.exp(target.loc[target['to_keep'] & ~target['train_set'] & (~train['closed_store']),'mean_log'].values+xgb.predict(train.loc[train['to_keep'] & ~train['train_set'] & (~train['closed_store']),features].values))-1))\n",
    "\n",
    "scores.loc[10,['mean','mean_log','lin_reg','xgb','log_target','onpromotion','onpromotion_shifts', 'score']] = [False, True, False, True, True, True, True, RMSLE(target.loc[target['to_keep'] & ~target['train_set'] & (~train['closed_store']),'sales'],np.exp(target.loc[target['to_keep'] & ~target['train_set'] & (~train['closed_store']),'mean_log'].values+xgb.predict(train.loc[train['to_keep'] & ~train['train_set'] & (~train['closed_store']),features].values))-1)]"
   ]
  },
  {
   "cell_type": "code",
   "execution_count": 55,
   "id": "a361d297",
   "metadata": {},
   "outputs": [
    {
     "data": {
      "text/html": [
       "<div>\n",
       "<style scoped>\n",
       "    .dataframe tbody tr th:only-of-type {\n",
       "        vertical-align: middle;\n",
       "    }\n",
       "\n",
       "    .dataframe tbody tr th {\n",
       "        vertical-align: top;\n",
       "    }\n",
       "\n",
       "    .dataframe thead th {\n",
       "        text-align: right;\n",
       "    }\n",
       "</style>\n",
       "<table border=\"1\" class=\"dataframe\">\n",
       "  <thead>\n",
       "    <tr style=\"text-align: right;\">\n",
       "      <th></th>\n",
       "      <th>mean</th>\n",
       "      <th>mean_log</th>\n",
       "      <th>score</th>\n",
       "      <th>lin_reg</th>\n",
       "      <th>log_target</th>\n",
       "      <th>xgb</th>\n",
       "      <th>onpromotion</th>\n",
       "      <th>onpromotion_shifts</th>\n",
       "      <th>shop-wise models</th>\n",
       "    </tr>\n",
       "  </thead>\n",
       "  <tbody>\n",
       "    <tr>\n",
       "      <th>12</th>\n",
       "      <td>False</td>\n",
       "      <td>False</td>\n",
       "      <td>0.476637</td>\n",
       "      <td>True</td>\n",
       "      <td>False</td>\n",
       "      <td>False</td>\n",
       "      <td>True</td>\n",
       "      <td>True</td>\n",
       "      <td>True</td>\n",
       "    </tr>\n",
       "    <tr>\n",
       "      <th>11</th>\n",
       "      <td>False</td>\n",
       "      <td>False</td>\n",
       "      <td>0.497050</td>\n",
       "      <td>True</td>\n",
       "      <td>True</td>\n",
       "      <td>False</td>\n",
       "      <td>True</td>\n",
       "      <td>True</td>\n",
       "      <td>True</td>\n",
       "    </tr>\n",
       "    <tr>\n",
       "      <th>10</th>\n",
       "      <td>False</td>\n",
       "      <td>True</td>\n",
       "      <td>0.529579</td>\n",
       "      <td>False</td>\n",
       "      <td>True</td>\n",
       "      <td>True</td>\n",
       "      <td>True</td>\n",
       "      <td>True</td>\n",
       "      <td>False</td>\n",
       "    </tr>\n",
       "    <tr>\n",
       "      <th>9</th>\n",
       "      <td>False</td>\n",
       "      <td>True</td>\n",
       "      <td>0.531718</td>\n",
       "      <td>True</td>\n",
       "      <td>True</td>\n",
       "      <td>False</td>\n",
       "      <td>True</td>\n",
       "      <td>True</td>\n",
       "      <td>False</td>\n",
       "    </tr>\n",
       "    <tr>\n",
       "      <th>5</th>\n",
       "      <td>False</td>\n",
       "      <td>True</td>\n",
       "      <td>0.533713</td>\n",
       "      <td>True</td>\n",
       "      <td>True</td>\n",
       "      <td>False</td>\n",
       "      <td>False</td>\n",
       "      <td>False</td>\n",
       "      <td>False</td>\n",
       "    </tr>\n",
       "    <tr>\n",
       "      <th>0</th>\n",
       "      <td>True</td>\n",
       "      <td>False</td>\n",
       "      <td>0.534830</td>\n",
       "      <td>False</td>\n",
       "      <td>False</td>\n",
       "      <td>False</td>\n",
       "      <td>False</td>\n",
       "      <td>False</td>\n",
       "      <td>False</td>\n",
       "    </tr>\n",
       "    <tr>\n",
       "      <th>1</th>\n",
       "      <td>False</td>\n",
       "      <td>True</td>\n",
       "      <td>0.552861</td>\n",
       "      <td>False</td>\n",
       "      <td>False</td>\n",
       "      <td>False</td>\n",
       "      <td>False</td>\n",
       "      <td>False</td>\n",
       "      <td>False</td>\n",
       "    </tr>\n",
       "    <tr>\n",
       "      <th>8</th>\n",
       "      <td>False</td>\n",
       "      <td>False</td>\n",
       "      <td>1.467889</td>\n",
       "      <td>False</td>\n",
       "      <td>True</td>\n",
       "      <td>True</td>\n",
       "      <td>True</td>\n",
       "      <td>True</td>\n",
       "      <td>False</td>\n",
       "    </tr>\n",
       "    <tr>\n",
       "      <th>4</th>\n",
       "      <td>True</td>\n",
       "      <td>False</td>\n",
       "      <td>1.571545</td>\n",
       "      <td>True</td>\n",
       "      <td>False</td>\n",
       "      <td>False</td>\n",
       "      <td>False</td>\n",
       "      <td>False</td>\n",
       "      <td>False</td>\n",
       "    </tr>\n",
       "    <tr>\n",
       "      <th>7</th>\n",
       "      <td>False</td>\n",
       "      <td>False</td>\n",
       "      <td>1.595193</td>\n",
       "      <td>False</td>\n",
       "      <td>True</td>\n",
       "      <td>True</td>\n",
       "      <td>True</td>\n",
       "      <td>False</td>\n",
       "      <td>False</td>\n",
       "    </tr>\n",
       "    <tr>\n",
       "      <th>3</th>\n",
       "      <td>False</td>\n",
       "      <td>False</td>\n",
       "      <td>2.422729</td>\n",
       "      <td>True</td>\n",
       "      <td>True</td>\n",
       "      <td>False</td>\n",
       "      <td>False</td>\n",
       "      <td>False</td>\n",
       "      <td>False</td>\n",
       "    </tr>\n",
       "    <tr>\n",
       "      <th>6</th>\n",
       "      <td>False</td>\n",
       "      <td>False</td>\n",
       "      <td>2.422729</td>\n",
       "      <td>False</td>\n",
       "      <td>True</td>\n",
       "      <td>True</td>\n",
       "      <td>False</td>\n",
       "      <td>False</td>\n",
       "      <td>False</td>\n",
       "    </tr>\n",
       "    <tr>\n",
       "      <th>2</th>\n",
       "      <td>False</td>\n",
       "      <td>False</td>\n",
       "      <td>3.361079</td>\n",
       "      <td>True</td>\n",
       "      <td>False</td>\n",
       "      <td>False</td>\n",
       "      <td>False</td>\n",
       "      <td>False</td>\n",
       "      <td>False</td>\n",
       "    </tr>\n",
       "  </tbody>\n",
       "</table>\n",
       "</div>"
      ],
      "text/plain": [
       "     mean  mean_log     score  lin_reg  log_target    xgb  onpromotion  \\\n",
       "12  False     False  0.476637     True       False  False         True   \n",
       "11  False     False  0.497050     True        True  False         True   \n",
       "10  False      True  0.529579    False        True   True         True   \n",
       "9   False      True  0.531718     True        True  False         True   \n",
       "5   False      True  0.533713     True        True  False        False   \n",
       "0    True     False  0.534830    False       False  False        False   \n",
       "1   False      True  0.552861    False       False  False        False   \n",
       "8   False     False  1.467889    False        True   True         True   \n",
       "4    True     False  1.571545     True       False  False        False   \n",
       "7   False     False  1.595193    False        True   True         True   \n",
       "3   False     False  2.422729     True        True  False        False   \n",
       "6   False     False  2.422729    False        True   True        False   \n",
       "2   False     False  3.361079     True       False  False        False   \n",
       "\n",
       "    onpromotion_shifts  shop-wise models  \n",
       "12                True              True  \n",
       "11                True              True  \n",
       "10                True             False  \n",
       "9                 True             False  \n",
       "5                False             False  \n",
       "0                False             False  \n",
       "1                False             False  \n",
       "8                 True             False  \n",
       "4                False             False  \n",
       "7                False             False  \n",
       "3                False             False  \n",
       "6                False             False  \n",
       "2                False             False  "
      ]
     },
     "metadata": {},
     "output_type": "display_data"
    },
    {
     "data": {
      "text/plain": [
       "(0.4, 0.6)"
      ]
     },
     "execution_count": 55,
     "metadata": {},
     "output_type": "execute_result"
    },
    {
     "data": {
      "image/png": "[encoded data removed]",
      "text/plain": [
       "<Figure size 432x288 with 1 Axes>"
      ]
     },
     "metadata": {
      "needs_background": "light"
     },
     "output_type": "display_data"
    }
   ],
   "source": [
    "scores = scores.fillna(False)\n",
    "scores = scores.sort_values('score')\n",
    "display(scores)\n",
    "plt.scatter(np.arange(len(scores)),scores['score'])\n",
    "plt.ylim([0.4,0.6])"
   ]
  },
  {
   "cell_type": "markdown",
   "id": "8f88dd2d-1b25-4af2-bd8e-5961ed742e07",
   "metadata": {},
   "source": [
    "# Leaderboard"
   ]
  },
  {
   "cell_type": "code",
   "execution_count": 56,
   "id": "4a4cd428-2365-4d78-962d-e2f8ec234071",
   "metadata": {},
   "outputs": [
    {
     "data": {
      "text/html": [
       "<div>\n",
       "<style scoped>\n",
       "    .dataframe tbody tr th:only-of-type {\n",
       "        vertical-align: middle;\n",
       "    }\n",
       "\n",
       "    .dataframe tbody tr th {\n",
       "        vertical-align: top;\n",
       "    }\n",
       "\n",
       "    .dataframe thead th {\n",
       "        text-align: right;\n",
       "    }\n",
       "</style>\n",
       "<table border=\"1\" class=\"dataframe\">\n",
       "  <thead>\n",
       "    <tr style=\"text-align: right;\">\n",
       "      <th></th>\n",
       "      <th>TeamId</th>\n",
       "      <th>TeamName</th>\n",
       "      <th>LastSubmissionDate</th>\n",
       "      <th>Score</th>\n",
       "      <th>SubmissionCount</th>\n",
       "      <th>TeamMemberUserNames</th>\n",
       "    </tr>\n",
       "    <tr>\n",
       "      <th>Rank</th>\n",
       "      <th></th>\n",
       "      <th></th>\n",
       "      <th></th>\n",
       "      <th></th>\n",
       "      <th></th>\n",
       "      <th></th>\n",
       "    </tr>\n",
       "  </thead>\n",
       "  <tbody>\n",
       "    <tr>\n",
       "      <th>1</th>\n",
       "      <td>10601957</td>\n",
       "      <td>Jason_</td>\n",
       "      <td>2023-10-16 05:05:48</td>\n",
       "      <td>0.37786</td>\n",
       "      <td>1</td>\n",
       "      <td>jaso1024</td>\n",
       "    </tr>\n",
       "    <tr>\n",
       "      <th>2</th>\n",
       "      <td>7906094</td>\n",
       "      <td>Javier Reinoso Velasco</td>\n",
       "      <td>2023-10-07 21:24:33</td>\n",
       "      <td>0.37793</td>\n",
       "      <td>2</td>\n",
       "      <td>javierreinoso</td>\n",
       "    </tr>\n",
       "    <tr>\n",
       "      <th>3</th>\n",
       "      <td>10936873</td>\n",
       "      <td>CCHK(a.k.a new_ITZY)</td>\n",
       "      <td>2023-10-04 13:43:34</td>\n",
       "      <td>0.37887</td>\n",
       "      <td>40</td>\n",
       "      <td>chense,harrischoe,ikjeee,stevekskim</td>\n",
       "    </tr>\n",
       "    <tr>\n",
       "      <th>4</th>\n",
       "      <td>10991187</td>\n",
       "      <td>ikzyyy</td>\n",
       "      <td>2023-10-03 13:49:54</td>\n",
       "      <td>0.37889</td>\n",
       "      <td>18</td>\n",
       "      <td>ikzyyy</td>\n",
       "    </tr>\n",
       "    <tr>\n",
       "      <th>5</th>\n",
       "      <td>10907407</td>\n",
       "      <td>JueYeong</td>\n",
       "      <td>2023-09-27 07:26:30</td>\n",
       "      <td>0.37929</td>\n",
       "      <td>1</td>\n",
       "      <td>jueyeong</td>\n",
       "    </tr>\n",
       "  </tbody>\n",
       "</table>\n",
       "</div>"
      ],
      "text/plain": [
       "        TeamId                TeamName   LastSubmissionDate    Score  \\\n",
       "Rank                                                                   \n",
       "1     10601957                  Jason_  2023-10-16 05:05:48  0.37786   \n",
       "2      7906094  Javier Reinoso Velasco  2023-10-07 21:24:33  0.37793   \n",
       "3     10936873    CCHK(a.k.a new_ITZY)  2023-10-04 13:43:34  0.37887   \n",
       "4     10991187                  ikzyyy  2023-10-03 13:49:54  0.37889   \n",
       "5     10907407                JueYeong  2023-09-27 07:26:30  0.37929   \n",
       "\n",
       "      SubmissionCount                  TeamMemberUserNames  \n",
       "Rank                                                        \n",
       "1                   1                             jaso1024  \n",
       "2                   2                        javierreinoso  \n",
       "3                  40  chense,harrischoe,ikjeee,stevekskim  \n",
       "4                  18                               ikzyyy  \n",
       "5                   1                             jueyeong  "
      ]
     },
     "execution_count": 56,
     "metadata": {},
     "output_type": "execute_result"
    }
   ],
   "source": [
    "leaderboard = pd.read_csv('store-sales-time-series-forecasting-publicleaderboard-2023-10-16T17:18:17.csv',index_col = 'Rank')\n",
    "leaderboard.head()"
   ]
  },
  {
   "cell_type": "code",
   "execution_count": 57,
   "id": "9c4af698-1ef0-4b7d-bf8e-82af70242943",
   "metadata": {},
   "outputs": [
    {
     "name": "stdout",
     "output_type": "stream",
     "text": [
      "Ranking: 146 of 635\n",
      "Relative ranking: 0.22992125984251968\n",
      "\n",
      "Percentiles:\n"
     ]
    },
    {
     "data": {
      "text/plain": [
       "25%    0.494715\n",
       "50%    0.510900\n",
       "75%    1.053110\n",
       "Name: Score, dtype: float64"
      ]
     },
     "execution_count": 57,
     "metadata": {},
     "output_type": "execute_result"
    }
   ],
   "source": [
    "my_score = scores['score'].min()\n",
    "print('Ranking:',(leaderboard['Score'] < my_score).sum(),'of',len(leaderboard))\n",
    "print('Relative ranking:',(leaderboard['Score'] < my_score).sum()/len(leaderboard))\n",
    "print()\n",
    "print('Percentiles:')\n",
    "leaderboard['Score'].describe()[['25%','50%','75%']]"
   ]
  },
  {
   "cell_type": "code",
   "execution_count": 58,
   "id": "3294eef5-1e72-498a-96f0-c65da910c9e0",
   "metadata": {},
   "outputs": [
    {
     "data": {
      "image/png": "[encoded data removed]",
      "text/plain": [
       "<Figure size 432x288 with 1 Axes>"
      ]
     },
     "metadata": {
      "needs_background": "light"
     },
     "output_type": "display_data"
    }
   ],
   "source": [
    "plt.scatter(np.arange(len(leaderboard)),leaderboard['Score'])\n",
    "plt.plot(np.arange(len(leaderboard)),[my_score]*len(leaderboard),color = 'k')\n",
    "plt.ylim([0.3,0.9]);\n",
    "#plt.yscale('log')"
   ]
  },
  {
   "cell_type": "markdown",
   "id": "6791ffe9-3ebe-461f-adaf-8a7d8679cdd3",
   "metadata": {},
   "source": [
    "# Winning model"
   ]
  },
  {
   "cell_type": "code",
   "execution_count": 1,
   "id": "cf45bcdd",
   "metadata": {},
   "outputs": [],
   "source": [
    "import pandas as pd\n",
    "import numpy as np\n",
    "from datetime import datetime,timedelta, date\n",
    "%matplotlib inline\n",
    "import matplotlib.pyplot as plt\n",
    "from sklearn.linear_model import LinearRegression\n",
    "from xgboost import XGBRegressor\n",
    "\n",
    "def RMSLE(y_prediction,y_measured):\n",
    "    return np.sqrt(np.mean((np.log((1+y_prediction)/(1+y_measured))**2)))\n",
    "\n",
    "%store -r train target"
   ]
  },
  {
   "cell_type": "code",
   "execution_count": 2,
   "id": "874e676b",
   "metadata": {},
   "outputs": [
    {
     "data": {
      "text/html": [
       "<div>\n",
       "<style scoped>\n",
       "    .dataframe tbody tr th:only-of-type {\n",
       "        vertical-align: middle;\n",
       "    }\n",
       "\n",
       "    .dataframe tbody tr th {\n",
       "        vertical-align: top;\n",
       "    }\n",
       "\n",
       "    .dataframe thead th {\n",
       "        text-align: right;\n",
       "    }\n",
       "</style>\n",
       "<table border=\"1\" class=\"dataframe\">\n",
       "  <thead>\n",
       "    <tr style=\"text-align: right;\">\n",
       "      <th></th>\n",
       "      <th>date</th>\n",
       "      <th>store_nbr</th>\n",
       "      <th>family</th>\n",
       "      <th>onpromotion</th>\n",
       "    </tr>\n",
       "    <tr>\n",
       "      <th>id</th>\n",
       "      <th></th>\n",
       "      <th></th>\n",
       "      <th></th>\n",
       "      <th></th>\n",
       "    </tr>\n",
       "  </thead>\n",
       "  <tbody>\n",
       "    <tr>\n",
       "      <th>3000888</th>\n",
       "      <td>2017-08-16</td>\n",
       "      <td>1</td>\n",
       "      <td>AUTOMOTIVE</td>\n",
       "      <td>0</td>\n",
       "    </tr>\n",
       "    <tr>\n",
       "      <th>3002082</th>\n",
       "      <td>2017-08-16</td>\n",
       "      <td>42</td>\n",
       "      <td>CELEBRATION</td>\n",
       "      <td>0</td>\n",
       "    </tr>\n",
       "    <tr>\n",
       "      <th>3002081</th>\n",
       "      <td>2017-08-16</td>\n",
       "      <td>42</td>\n",
       "      <td>BREAD/BAKERY</td>\n",
       "      <td>12</td>\n",
       "    </tr>\n",
       "    <tr>\n",
       "      <th>3002080</th>\n",
       "      <td>2017-08-16</td>\n",
       "      <td>42</td>\n",
       "      <td>BOOKS</td>\n",
       "      <td>0</td>\n",
       "    </tr>\n",
       "    <tr>\n",
       "      <th>3002079</th>\n",
       "      <td>2017-08-16</td>\n",
       "      <td>42</td>\n",
       "      <td>BEVERAGES</td>\n",
       "      <td>19</td>\n",
       "    </tr>\n",
       "  </tbody>\n",
       "</table>\n",
       "</div>"
      ],
      "text/plain": [
       "              date  store_nbr        family  onpromotion\n",
       "id                                                      \n",
       "3000888 2017-08-16          1    AUTOMOTIVE            0\n",
       "3002082 2017-08-16         42   CELEBRATION            0\n",
       "3002081 2017-08-16         42  BREAD/BAKERY           12\n",
       "3002080 2017-08-16         42         BOOKS            0\n",
       "3002079 2017-08-16         42     BEVERAGES           19"
      ]
     },
     "execution_count": 2,
     "metadata": {},
     "output_type": "execute_result"
    }
   ],
   "source": [
    "test = pd.read_csv('test.csv',index_col = 'id')\n",
    "test['date'] = pd.to_datetime(test['date'])\n",
    "test = test.sort_values('date')\n",
    "test.head()"
   ]
  },
  {
   "cell_type": "code",
   "execution_count": 6,
   "id": "00b512c9",
   "metadata": {},
   "outputs": [
    {
     "name": "stdout",
     "output_type": "stream",
     "text": [
      "0:05:17.371570\n"
     ]
    }
   ],
   "source": [
    "# 1 day and 1 week shift\n",
    "time = datetime(2023,1,1).utcnow()\n",
    "\n",
    "test['test'] = True\n",
    "test['to_keep'] = True\n",
    "test['closed_store'] = False\n",
    "closed_stores = train[train['closed_store']].groupby(['store_nbr','family']).count().index\n",
    "for (store_nb, fam) in closed_stores:\n",
    "    test.loc[(test['store_nbr'] == store_nb) & (test['family'] == fam),'closed_store'] = True\n",
    "train['test'] = False\n",
    "train['sales'] = target['sales']\n",
    "data = pd.concat([test,train]).sort_values('date')\n",
    "#one-hot-encode weekday\n",
    "data['weekday'] = data['date'].dt.weekday\n",
    "data = pd.concat([data,pd.get_dummies(data['weekday']).drop([0], axis = 1)], axis = 1)\n",
    "data = data.drop('weekday', axis = 1)\n",
    "data['onpromotion'] = data['onpromotion'].astype(int)\n",
    "\n",
    "cut_date = datetime(2016,1,1)\n",
    "temp = data.loc[(~data['closed_store']) & (data['date'] >= cut_date), ['date','store_nbr','family','onpromotion']].sort_values('date').copy()\n",
    "for (store_nb,fam) in temp[['store_nbr','family']].groupby(['store_nbr','family']).mean().index:\n",
    "    temp2 = temp.loc[(temp['store_nbr'] == store_nb) & (temp['family'] == fam),['date','onpromotion']].copy().sort_values('date').set_index('date').asfreq('d')\n",
    "    temp2['onpromotion_shift_1d'] = temp2['onpromotion'].shift(1)\n",
    "    temp2['onpromotion_shift_2d'] = temp2['onpromotion'].shift(2)\n",
    "    temp2['onpromotion_shift_3d'] = temp2['onpromotion'].shift(3)\n",
    "    temp2['onpromotion_shift_4d'] = temp2['onpromotion'].shift(4)\n",
    "    temp2['onpromotion_shift_5d'] = temp2['onpromotion'].shift(5)\n",
    "    temp2['onpromotion_shift_6d'] = temp2['onpromotion'].shift(6)\n",
    "    temp2['onpromotion_shift_7d'] = temp2['onpromotion'].shift(7)\n",
    "    temp.loc[(temp['store_nbr'] == store_nb) & (temp['family'] == fam),['onpromotion_shift_1d','onpromotion_shift_2d','onpromotion_shift_3d','onpromotion_shift_4d','onpromotion_shift_5d','onpromotion_shift_6d','onpromotion_shift_7d']] = temp2[['onpromotion_shift_1d','onpromotion_shift_2d','onpromotion_shift_3d','onpromotion_shift_4d','onpromotion_shift_5d','onpromotion_shift_6d','onpromotion_shift_7d']].values\n",
    "data.loc[(~data['closed_store']) & (data['date'] >= cut_date),['onpromotion_shift_1d','onpromotion_shift_2d','onpromotion_shift_3d','onpromotion_shift_4d','onpromotion_shift_5d','onpromotion_shift_6d','onpromotion_shift_7d']] = temp[['onpromotion_shift_1d','onpromotion_shift_2d','onpromotion_shift_3d','onpromotion_shift_4d','onpromotion_shift_5d','onpromotion_shift_6d','onpromotion_shift_7d']]\n",
    "print(datetime(2023,1,1).utcnow()-time)"
   ]
  },
  {
   "cell_type": "code",
   "execution_count": 7,
   "id": "39710b19",
   "metadata": {},
   "outputs": [],
   "source": [
    "# Insert the zero predictions for the closed stores\n",
    "for (store_nb, fam) in closed_stores:\n",
    "    data.loc[data['test'] & (data['store_nbr'] == store_nb) & (data['family'] == fam),'prediction'] = 0"
   ]
  },
  {
   "cell_type": "code",
   "execution_count": 8,
   "id": "eb93f459",
   "metadata": {},
   "outputs": [
    {
     "name": "stdout",
     "output_type": "stream",
     "text": [
      "0:17:36.497548\n"
     ]
    }
   ],
   "source": [
    "time = datetime(2023,1,1).utcnow()\n",
    "features = [1,2,3,4,5,6, 'onpromotion','onpromotion_shift_1d','onpromotion_shift_2d','onpromotion_shift_3d','onpromotion_shift_4d','onpromotion_shift_5d','onpromotion_shift_6d','onpromotion_shift_7d']\n",
    "open_stores = train[~train['closed_store']].groupby(['store_nbr','family']).count().index\n",
    "temp = data.loc[data['date'] > cut_date,['store_nbr', 'family', 'onpromotion', 'test', 'to_keep', 1, 2, 3, 4, 5, 6, 'onpromotion_shift_1d','onpromotion_shift_2d','onpromotion_shift_3d','onpromotion_shift_4d','onpromotion_shift_5d','onpromotion_shift_6d','onpromotion_shift_7d', 'sales']].copy()\n",
    "for (store_nb,fam) in open_stores:\n",
    "    temp2 = temp[(temp['store_nbr'] == store_nb) & (temp['family'] == fam) & (~temp['test']) & temp['to_keep']].copy().dropna()\n",
    "    X = temp2[features].values\n",
    "    y = temp2['sales'].values\n",
    "    linreg = LinearRegression().fit(X,y)\n",
    "    data.loc[(data['store_nbr'] == store_nb) & (data['family'] == fam) & data['test'],'prediction'] = linreg.predict(data.loc[(data['store_nbr'] == store_nb) & (data['family'] == fam) & data['test'],features].values)\n",
    "print(datetime(2023,1,1).utcnow()-time)"
   ]
  },
  {
   "cell_type": "code",
   "execution_count": 9,
   "id": "4cc5b757",
   "metadata": {},
   "outputs": [],
   "source": [
    "temp = data.loc[data['test'],['prediction']].rename(columns = {'prediction':'sales'})\n",
    "temp.index.name = 'id'\n",
    "temp.to_csv('predictions_2.csv')"
   ]
  },
  {
   "cell_type": "code",
   "execution_count": null,
   "id": "e2448abd",
   "metadata": {},
   "outputs": [],
   "source": []
  }
 ],
 "metadata": {
  "kernelspec": {
   "display_name": "Python 3 (ipykernel)",
   "language": "python",
   "name": "python3"
  },
  "language_info": {
   "codemirror_mode": {
    "name": "ipython",
    "version": 3
   },
   "file_extension": ".py",
   "mimetype": "text/x-python",
   "name": "python",
   "nbconvert_exporter": "python",
   "pygments_lexer": "ipython3",
   "version": "3.10.6"
  }
 },
 "nbformat": 4,
 "nbformat_minor": 5
}
